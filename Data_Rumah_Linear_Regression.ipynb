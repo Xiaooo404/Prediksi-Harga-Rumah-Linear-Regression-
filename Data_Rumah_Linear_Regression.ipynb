{
  "metadata": {
    "kernelspec": {
      "language": "python",
      "display_name": "Python 3",
      "name": "python3"
    },
    "language_info": {
      "name": "python",
      "version": "3.7.12",
      "mimetype": "text/x-python",
      "codemirror_mode": {
        "name": "ipython",
        "version": 3
      },
      "pygments_lexer": "ipython3",
      "nbconvert_exporter": "python",
      "file_extension": ".py"
    },
    "colab": {
      "provenance": [],
      "include_colab_link": true
    }
  },
  "nbformat_minor": 0,
  "nbformat": 4,
  "cells": [
    {
      "cell_type": "markdown",
      "metadata": {
        "id": "view-in-github",
        "colab_type": "text"
      },
      "source": [
        "<a href=\"https://colab.research.google.com/github/Xiaooo404/Prediksi-Harga-Rumah-Linear-Regression-/blob/main/Data_Rumah_Linear_Regression.ipynb\" target=\"_parent\"><img src=\"https://colab.research.google.com/assets/colab-badge.svg\" alt=\"Open In Colab\"/></a>"
      ]
    },
    {
      "cell_type": "markdown",
      "source": [
        "## Load data"
      ],
      "metadata": {
        "id": "Zrhqa4aZIcHZ"
      }
    },
    {
      "cell_type": "code",
      "source": [
        "import pandas as pd\n",
        "\n",
        "df = pd.read_excel('DATA RUMAH.xlsx', sheet_name='Sheet1')\n",
        "df.info()"
      ],
      "metadata": {
        "execution": {
          "iopub.status.busy": "2023-04-14T10:49:39.880661Z",
          "iopub.execute_input": "2023-04-14T10:49:39.881596Z",
          "iopub.status.idle": "2023-04-14T10:49:40.573169Z",
          "shell.execute_reply.started": "2023-04-14T10:49:39.881557Z",
          "shell.execute_reply": "2023-04-14T10:49:40.571789Z"
        },
        "trusted": true,
        "colab": {
          "base_uri": "https://localhost:8080/"
        },
        "id": "M0SNuEN_IcHa",
        "outputId": "734d6c60-23c4-4995-b9e5-4a5986bb9880"
      },
      "execution_count": null,
      "outputs": [
        {
          "output_type": "stream",
          "name": "stdout",
          "text": [
            "<class 'pandas.core.frame.DataFrame'>\n",
            "RangeIndex: 1010 entries, 0 to 1009\n",
            "Data columns (total 8 columns):\n",
            " #   Column      Non-Null Count  Dtype \n",
            "---  ------      --------------  ----- \n",
            " 0   NO          1010 non-null   int64 \n",
            " 1   NAMA RUMAH  1010 non-null   object\n",
            " 2   HARGA       1010 non-null   int64 \n",
            " 3   LB          1010 non-null   int64 \n",
            " 4   LT          1010 non-null   int64 \n",
            " 5   KT          1010 non-null   int64 \n",
            " 6   KM          1010 non-null   int64 \n",
            " 7   GRS         1010 non-null   int64 \n",
            "dtypes: int64(7), object(1)\n",
            "memory usage: 63.2+ KB\n"
          ]
        }
      ]
    },
    {
      "cell_type": "markdown",
      "source": [
        "- Explanation of each attribute:\n",
        "    1. Nama Rumah = House name\n",
        "    2. LB = Total Building Area\n",
        "    3. LT = Total Land Area\n",
        "    4. KT = Number of Bedrooms\n",
        "    5. KM = Number of Bathrooms\n",
        "    6. GRS = Number of Car Capacity in the Garage\n",
        "    7. Harga =  House prices (IDR)"
      ],
      "metadata": {
        "id": "w_fxrmizIcHa"
      }
    },
    {
      "cell_type": "code",
      "source": [
        "df.shape"
      ],
      "metadata": {
        "execution": {
          "iopub.status.busy": "2023-04-14T10:49:40.577454Z",
          "iopub.execute_input": "2023-04-14T10:49:40.578025Z",
          "iopub.status.idle": "2023-04-14T10:49:40.586479Z",
          "shell.execute_reply.started": "2023-04-14T10:49:40.577984Z",
          "shell.execute_reply": "2023-04-14T10:49:40.585193Z"
        },
        "trusted": true,
        "colab": {
          "base_uri": "https://localhost:8080/"
        },
        "id": "QqK0KrclIcHb",
        "outputId": "13eef31f-2f73-4980-b591-6cf721ce6f04"
      },
      "execution_count": null,
      "outputs": [
        {
          "output_type": "execute_result",
          "data": {
            "text/plain": [
              "(1010, 8)"
            ]
          },
          "metadata": {},
          "execution_count": 3
        }
      ]
    },
    {
      "cell_type": "code",
      "source": [
        "df.head()"
      ],
      "metadata": {
        "execution": {
          "iopub.status.busy": "2023-04-14T10:49:40.588230Z",
          "iopub.execute_input": "2023-04-14T10:49:40.588943Z",
          "iopub.status.idle": "2023-04-14T10:49:40.616322Z",
          "shell.execute_reply.started": "2023-04-14T10:49:40.588884Z",
          "shell.execute_reply": "2023-04-14T10:49:40.615038Z"
        },
        "trusted": true,
        "colab": {
          "base_uri": "https://localhost:8080/",
          "height": 206
        },
        "id": "gxCs1yCXIcHb",
        "outputId": "988275d0-5eb6-4417-d051-bf7647464bd1"
      },
      "execution_count": null,
      "outputs": [
        {
          "output_type": "execute_result",
          "data": {
            "text/plain": [
              "   NO                                         NAMA RUMAH       HARGA   LB  \\\n",
              "0   1  Rumah Murah Hook Tebet Timur, Tebet, Jakarta S...  3800000000  220   \n",
              "1   2  Rumah Modern di Tebet dekat Stasiun, Tebet, Ja...  4600000000  180   \n",
              "2   3  Rumah Mewah 2 Lantai Hanya 3 Menit Ke Tebet, T...  3000000000  267   \n",
              "3   4           Rumah Baru Tebet, Tebet, Jakarta Selatan   430000000   40   \n",
              "4   5  Rumah Bagus Tebet komp Gudang Peluru lt 350m, ...  9000000000  400   \n",
              "\n",
              "    LT  KT  KM  GRS  \n",
              "0  220   3   3    0  \n",
              "1  137   4   3    2  \n",
              "2  250   4   4    4  \n",
              "3   25   2   2    0  \n",
              "4  355   6   5    3  "
            ],
            "text/html": [
              "\n",
              "  <div id=\"df-e9954caa-7e1e-4266-bb58-3d6ceb352432\">\n",
              "    <div class=\"colab-df-container\">\n",
              "      <div>\n",
              "<style scoped>\n",
              "    .dataframe tbody tr th:only-of-type {\n",
              "        vertical-align: middle;\n",
              "    }\n",
              "\n",
              "    .dataframe tbody tr th {\n",
              "        vertical-align: top;\n",
              "    }\n",
              "\n",
              "    .dataframe thead th {\n",
              "        text-align: right;\n",
              "    }\n",
              "</style>\n",
              "<table border=\"1\" class=\"dataframe\">\n",
              "  <thead>\n",
              "    <tr style=\"text-align: right;\">\n",
              "      <th></th>\n",
              "      <th>NO</th>\n",
              "      <th>NAMA RUMAH</th>\n",
              "      <th>HARGA</th>\n",
              "      <th>LB</th>\n",
              "      <th>LT</th>\n",
              "      <th>KT</th>\n",
              "      <th>KM</th>\n",
              "      <th>GRS</th>\n",
              "    </tr>\n",
              "  </thead>\n",
              "  <tbody>\n",
              "    <tr>\n",
              "      <th>0</th>\n",
              "      <td>1</td>\n",
              "      <td>Rumah Murah Hook Tebet Timur, Tebet, Jakarta S...</td>\n",
              "      <td>3800000000</td>\n",
              "      <td>220</td>\n",
              "      <td>220</td>\n",
              "      <td>3</td>\n",
              "      <td>3</td>\n",
              "      <td>0</td>\n",
              "    </tr>\n",
              "    <tr>\n",
              "      <th>1</th>\n",
              "      <td>2</td>\n",
              "      <td>Rumah Modern di Tebet dekat Stasiun, Tebet, Ja...</td>\n",
              "      <td>4600000000</td>\n",
              "      <td>180</td>\n",
              "      <td>137</td>\n",
              "      <td>4</td>\n",
              "      <td>3</td>\n",
              "      <td>2</td>\n",
              "    </tr>\n",
              "    <tr>\n",
              "      <th>2</th>\n",
              "      <td>3</td>\n",
              "      <td>Rumah Mewah 2 Lantai Hanya 3 Menit Ke Tebet, T...</td>\n",
              "      <td>3000000000</td>\n",
              "      <td>267</td>\n",
              "      <td>250</td>\n",
              "      <td>4</td>\n",
              "      <td>4</td>\n",
              "      <td>4</td>\n",
              "    </tr>\n",
              "    <tr>\n",
              "      <th>3</th>\n",
              "      <td>4</td>\n",
              "      <td>Rumah Baru Tebet, Tebet, Jakarta Selatan</td>\n",
              "      <td>430000000</td>\n",
              "      <td>40</td>\n",
              "      <td>25</td>\n",
              "      <td>2</td>\n",
              "      <td>2</td>\n",
              "      <td>0</td>\n",
              "    </tr>\n",
              "    <tr>\n",
              "      <th>4</th>\n",
              "      <td>5</td>\n",
              "      <td>Rumah Bagus Tebet komp Gudang Peluru lt 350m, ...</td>\n",
              "      <td>9000000000</td>\n",
              "      <td>400</td>\n",
              "      <td>355</td>\n",
              "      <td>6</td>\n",
              "      <td>5</td>\n",
              "      <td>3</td>\n",
              "    </tr>\n",
              "  </tbody>\n",
              "</table>\n",
              "</div>\n",
              "      <button class=\"colab-df-convert\" onclick=\"convertToInteractive('df-e9954caa-7e1e-4266-bb58-3d6ceb352432')\"\n",
              "              title=\"Convert this dataframe to an interactive table.\"\n",
              "              style=\"display:none;\">\n",
              "        \n",
              "  <svg xmlns=\"http://www.w3.org/2000/svg\" height=\"24px\"viewBox=\"0 0 24 24\"\n",
              "       width=\"24px\">\n",
              "    <path d=\"M0 0h24v24H0V0z\" fill=\"none\"/>\n",
              "    <path d=\"M18.56 5.44l.94 2.06.94-2.06 2.06-.94-2.06-.94-.94-2.06-.94 2.06-2.06.94zm-11 1L8.5 8.5l.94-2.06 2.06-.94-2.06-.94L8.5 2.5l-.94 2.06-2.06.94zm10 10l.94 2.06.94-2.06 2.06-.94-2.06-.94-.94-2.06-.94 2.06-2.06.94z\"/><path d=\"M17.41 7.96l-1.37-1.37c-.4-.4-.92-.59-1.43-.59-.52 0-1.04.2-1.43.59L10.3 9.45l-7.72 7.72c-.78.78-.78 2.05 0 2.83L4 21.41c.39.39.9.59 1.41.59.51 0 1.02-.2 1.41-.59l7.78-7.78 2.81-2.81c.8-.78.8-2.07 0-2.86zM5.41 20L4 18.59l7.72-7.72 1.47 1.35L5.41 20z\"/>\n",
              "  </svg>\n",
              "      </button>\n",
              "      \n",
              "  <style>\n",
              "    .colab-df-container {\n",
              "      display:flex;\n",
              "      flex-wrap:wrap;\n",
              "      gap: 12px;\n",
              "    }\n",
              "\n",
              "    .colab-df-convert {\n",
              "      background-color: #E8F0FE;\n",
              "      border: none;\n",
              "      border-radius: 50%;\n",
              "      cursor: pointer;\n",
              "      display: none;\n",
              "      fill: #1967D2;\n",
              "      height: 32px;\n",
              "      padding: 0 0 0 0;\n",
              "      width: 32px;\n",
              "    }\n",
              "\n",
              "    .colab-df-convert:hover {\n",
              "      background-color: #E2EBFA;\n",
              "      box-shadow: 0px 1px 2px rgba(60, 64, 67, 0.3), 0px 1px 3px 1px rgba(60, 64, 67, 0.15);\n",
              "      fill: #174EA6;\n",
              "    }\n",
              "\n",
              "    [theme=dark] .colab-df-convert {\n",
              "      background-color: #3B4455;\n",
              "      fill: #D2E3FC;\n",
              "    }\n",
              "\n",
              "    [theme=dark] .colab-df-convert:hover {\n",
              "      background-color: #434B5C;\n",
              "      box-shadow: 0px 1px 3px 1px rgba(0, 0, 0, 0.15);\n",
              "      filter: drop-shadow(0px 1px 2px rgba(0, 0, 0, 0.3));\n",
              "      fill: #FFFFFF;\n",
              "    }\n",
              "  </style>\n",
              "\n",
              "      <script>\n",
              "        const buttonEl =\n",
              "          document.querySelector('#df-e9954caa-7e1e-4266-bb58-3d6ceb352432 button.colab-df-convert');\n",
              "        buttonEl.style.display =\n",
              "          google.colab.kernel.accessAllowed ? 'block' : 'none';\n",
              "\n",
              "        async function convertToInteractive(key) {\n",
              "          const element = document.querySelector('#df-e9954caa-7e1e-4266-bb58-3d6ceb352432');\n",
              "          const dataTable =\n",
              "            await google.colab.kernel.invokeFunction('convertToInteractive',\n",
              "                                                     [key], {});\n",
              "          if (!dataTable) return;\n",
              "\n",
              "          const docLinkHtml = 'Like what you see? Visit the ' +\n",
              "            '<a target=\"_blank\" href=https://colab.research.google.com/notebooks/data_table.ipynb>data table notebook</a>'\n",
              "            + ' to learn more about interactive tables.';\n",
              "          element.innerHTML = '';\n",
              "          dataTable['output_type'] = 'display_data';\n",
              "          await google.colab.output.renderOutput(dataTable, element);\n",
              "          const docLink = document.createElement('div');\n",
              "          docLink.innerHTML = docLinkHtml;\n",
              "          element.appendChild(docLink);\n",
              "        }\n",
              "      </script>\n",
              "    </div>\n",
              "  </div>\n",
              "  "
            ]
          },
          "metadata": {},
          "execution_count": 4
        }
      ]
    },
    {
      "cell_type": "code",
      "source": [
        "df = df.loc[:,['LB', 'LT', 'KT', 'KM', 'GRS', 'HARGA']]\n",
        "df.head()"
      ],
      "metadata": {
        "execution": {
          "iopub.status.busy": "2023-04-14T10:49:40.619774Z",
          "iopub.execute_input": "2023-04-14T10:49:40.620443Z",
          "iopub.status.idle": "2023-04-14T10:49:40.636783Z",
          "shell.execute_reply.started": "2023-04-14T10:49:40.620399Z",
          "shell.execute_reply": "2023-04-14T10:49:40.635496Z"
        },
        "trusted": true,
        "colab": {
          "base_uri": "https://localhost:8080/",
          "height": 206
        },
        "id": "PrgzAz7KIcHb",
        "outputId": "08948f4e-85c8-455e-fb17-405e564928dd"
      },
      "execution_count": null,
      "outputs": [
        {
          "output_type": "execute_result",
          "data": {
            "text/plain": [
              "    LB   LT  KT  KM  GRS       HARGA\n",
              "0  220  220   3   3    0  3800000000\n",
              "1  180  137   4   3    2  4600000000\n",
              "2  267  250   4   4    4  3000000000\n",
              "3   40   25   2   2    0   430000000\n",
              "4  400  355   6   5    3  9000000000"
            ],
            "text/html": [
              "\n",
              "  <div id=\"df-7bfb4a3d-87ca-4fe0-8a6b-b4658eb951cd\">\n",
              "    <div class=\"colab-df-container\">\n",
              "      <div>\n",
              "<style scoped>\n",
              "    .dataframe tbody tr th:only-of-type {\n",
              "        vertical-align: middle;\n",
              "    }\n",
              "\n",
              "    .dataframe tbody tr th {\n",
              "        vertical-align: top;\n",
              "    }\n",
              "\n",
              "    .dataframe thead th {\n",
              "        text-align: right;\n",
              "    }\n",
              "</style>\n",
              "<table border=\"1\" class=\"dataframe\">\n",
              "  <thead>\n",
              "    <tr style=\"text-align: right;\">\n",
              "      <th></th>\n",
              "      <th>LB</th>\n",
              "      <th>LT</th>\n",
              "      <th>KT</th>\n",
              "      <th>KM</th>\n",
              "      <th>GRS</th>\n",
              "      <th>HARGA</th>\n",
              "    </tr>\n",
              "  </thead>\n",
              "  <tbody>\n",
              "    <tr>\n",
              "      <th>0</th>\n",
              "      <td>220</td>\n",
              "      <td>220</td>\n",
              "      <td>3</td>\n",
              "      <td>3</td>\n",
              "      <td>0</td>\n",
              "      <td>3800000000</td>\n",
              "    </tr>\n",
              "    <tr>\n",
              "      <th>1</th>\n",
              "      <td>180</td>\n",
              "      <td>137</td>\n",
              "      <td>4</td>\n",
              "      <td>3</td>\n",
              "      <td>2</td>\n",
              "      <td>4600000000</td>\n",
              "    </tr>\n",
              "    <tr>\n",
              "      <th>2</th>\n",
              "      <td>267</td>\n",
              "      <td>250</td>\n",
              "      <td>4</td>\n",
              "      <td>4</td>\n",
              "      <td>4</td>\n",
              "      <td>3000000000</td>\n",
              "    </tr>\n",
              "    <tr>\n",
              "      <th>3</th>\n",
              "      <td>40</td>\n",
              "      <td>25</td>\n",
              "      <td>2</td>\n",
              "      <td>2</td>\n",
              "      <td>0</td>\n",
              "      <td>430000000</td>\n",
              "    </tr>\n",
              "    <tr>\n",
              "      <th>4</th>\n",
              "      <td>400</td>\n",
              "      <td>355</td>\n",
              "      <td>6</td>\n",
              "      <td>5</td>\n",
              "      <td>3</td>\n",
              "      <td>9000000000</td>\n",
              "    </tr>\n",
              "  </tbody>\n",
              "</table>\n",
              "</div>\n",
              "      <button class=\"colab-df-convert\" onclick=\"convertToInteractive('df-7bfb4a3d-87ca-4fe0-8a6b-b4658eb951cd')\"\n",
              "              title=\"Convert this dataframe to an interactive table.\"\n",
              "              style=\"display:none;\">\n",
              "        \n",
              "  <svg xmlns=\"http://www.w3.org/2000/svg\" height=\"24px\"viewBox=\"0 0 24 24\"\n",
              "       width=\"24px\">\n",
              "    <path d=\"M0 0h24v24H0V0z\" fill=\"none\"/>\n",
              "    <path d=\"M18.56 5.44l.94 2.06.94-2.06 2.06-.94-2.06-.94-.94-2.06-.94 2.06-2.06.94zm-11 1L8.5 8.5l.94-2.06 2.06-.94-2.06-.94L8.5 2.5l-.94 2.06-2.06.94zm10 10l.94 2.06.94-2.06 2.06-.94-2.06-.94-.94-2.06-.94 2.06-2.06.94z\"/><path d=\"M17.41 7.96l-1.37-1.37c-.4-.4-.92-.59-1.43-.59-.52 0-1.04.2-1.43.59L10.3 9.45l-7.72 7.72c-.78.78-.78 2.05 0 2.83L4 21.41c.39.39.9.59 1.41.59.51 0 1.02-.2 1.41-.59l7.78-7.78 2.81-2.81c.8-.78.8-2.07 0-2.86zM5.41 20L4 18.59l7.72-7.72 1.47 1.35L5.41 20z\"/>\n",
              "  </svg>\n",
              "      </button>\n",
              "      \n",
              "  <style>\n",
              "    .colab-df-container {\n",
              "      display:flex;\n",
              "      flex-wrap:wrap;\n",
              "      gap: 12px;\n",
              "    }\n",
              "\n",
              "    .colab-df-convert {\n",
              "      background-color: #E8F0FE;\n",
              "      border: none;\n",
              "      border-radius: 50%;\n",
              "      cursor: pointer;\n",
              "      display: none;\n",
              "      fill: #1967D2;\n",
              "      height: 32px;\n",
              "      padding: 0 0 0 0;\n",
              "      width: 32px;\n",
              "    }\n",
              "\n",
              "    .colab-df-convert:hover {\n",
              "      background-color: #E2EBFA;\n",
              "      box-shadow: 0px 1px 2px rgba(60, 64, 67, 0.3), 0px 1px 3px 1px rgba(60, 64, 67, 0.15);\n",
              "      fill: #174EA6;\n",
              "    }\n",
              "\n",
              "    [theme=dark] .colab-df-convert {\n",
              "      background-color: #3B4455;\n",
              "      fill: #D2E3FC;\n",
              "    }\n",
              "\n",
              "    [theme=dark] .colab-df-convert:hover {\n",
              "      background-color: #434B5C;\n",
              "      box-shadow: 0px 1px 3px 1px rgba(0, 0, 0, 0.15);\n",
              "      filter: drop-shadow(0px 1px 2px rgba(0, 0, 0, 0.3));\n",
              "      fill: #FFFFFF;\n",
              "    }\n",
              "  </style>\n",
              "\n",
              "      <script>\n",
              "        const buttonEl =\n",
              "          document.querySelector('#df-7bfb4a3d-87ca-4fe0-8a6b-b4658eb951cd button.colab-df-convert');\n",
              "        buttonEl.style.display =\n",
              "          google.colab.kernel.accessAllowed ? 'block' : 'none';\n",
              "\n",
              "        async function convertToInteractive(key) {\n",
              "          const element = document.querySelector('#df-7bfb4a3d-87ca-4fe0-8a6b-b4658eb951cd');\n",
              "          const dataTable =\n",
              "            await google.colab.kernel.invokeFunction('convertToInteractive',\n",
              "                                                     [key], {});\n",
              "          if (!dataTable) return;\n",
              "\n",
              "          const docLinkHtml = 'Like what you see? Visit the ' +\n",
              "            '<a target=\"_blank\" href=https://colab.research.google.com/notebooks/data_table.ipynb>data table notebook</a>'\n",
              "            + ' to learn more about interactive tables.';\n",
              "          element.innerHTML = '';\n",
              "          dataTable['output_type'] = 'display_data';\n",
              "          await google.colab.output.renderOutput(dataTable, element);\n",
              "          const docLink = document.createElement('div');\n",
              "          docLink.innerHTML = docLinkHtml;\n",
              "          element.appendChild(docLink);\n",
              "        }\n",
              "      </script>\n",
              "    </div>\n",
              "  </div>\n",
              "  "
            ]
          },
          "metadata": {},
          "execution_count": 5
        }
      ]
    },
    {
      "cell_type": "markdown",
      "source": [
        "## Exploratory Data Analysis"
      ],
      "metadata": {
        "id": "_nw9oy57IcHc"
      }
    },
    {
      "cell_type": "markdown",
      "source": [
        "### Data information\n",
        "statistical description of the mean, quartiles, standard deviation, etc"
      ],
      "metadata": {
        "id": "ip2lTZdXIcHc"
      }
    },
    {
      "cell_type": "code",
      "source": [
        "df.describe()"
      ],
      "metadata": {
        "execution": {
          "iopub.status.busy": "2023-04-14T10:49:40.638423Z",
          "iopub.execute_input": "2023-04-14T10:49:40.639096Z",
          "iopub.status.idle": "2023-04-14T10:49:40.673967Z",
          "shell.execute_reply.started": "2023-04-14T10:49:40.639055Z",
          "shell.execute_reply": "2023-04-14T10:49:40.672659Z"
        },
        "trusted": true,
        "colab": {
          "base_uri": "https://localhost:8080/",
          "height": 300
        },
        "id": "l3snqor_IcHc",
        "outputId": "fc9ea2b9-2099-44f8-f66e-3c81e76ec25b"
      },
      "execution_count": null,
      "outputs": [
        {
          "output_type": "execute_result",
          "data": {
            "text/plain": [
              "                LB           LT           KT           KM          GRS  \\\n",
              "count  1010.000000  1010.000000  1010.000000  1010.000000  1010.000000   \n",
              "mean    276.539604   237.432673     4.668317     3.607921     1.920792   \n",
              "std     177.864557   179.957604     1.572776     1.420066     1.510998   \n",
              "min      40.000000    25.000000     2.000000     1.000000     0.000000   \n",
              "25%     150.000000   130.000000     4.000000     3.000000     1.000000   \n",
              "50%     216.500000   165.000000     4.000000     3.000000     2.000000   \n",
              "75%     350.000000   290.000000     5.000000     4.000000     2.000000   \n",
              "max    1126.000000  1400.000000    10.000000    10.000000    10.000000   \n",
              "\n",
              "              HARGA  \n",
              "count  1.010000e+03  \n",
              "mean   7.628987e+09  \n",
              "std    7.340946e+09  \n",
              "min    4.300000e+08  \n",
              "25%    3.262500e+09  \n",
              "50%    5.000000e+09  \n",
              "75%    9.000000e+09  \n",
              "max    6.500000e+10  "
            ],
            "text/html": [
              "\n",
              "  <div id=\"df-6e37c319-6914-4735-b631-c42648df3df0\">\n",
              "    <div class=\"colab-df-container\">\n",
              "      <div>\n",
              "<style scoped>\n",
              "    .dataframe tbody tr th:only-of-type {\n",
              "        vertical-align: middle;\n",
              "    }\n",
              "\n",
              "    .dataframe tbody tr th {\n",
              "        vertical-align: top;\n",
              "    }\n",
              "\n",
              "    .dataframe thead th {\n",
              "        text-align: right;\n",
              "    }\n",
              "</style>\n",
              "<table border=\"1\" class=\"dataframe\">\n",
              "  <thead>\n",
              "    <tr style=\"text-align: right;\">\n",
              "      <th></th>\n",
              "      <th>LB</th>\n",
              "      <th>LT</th>\n",
              "      <th>KT</th>\n",
              "      <th>KM</th>\n",
              "      <th>GRS</th>\n",
              "      <th>HARGA</th>\n",
              "    </tr>\n",
              "  </thead>\n",
              "  <tbody>\n",
              "    <tr>\n",
              "      <th>count</th>\n",
              "      <td>1010.000000</td>\n",
              "      <td>1010.000000</td>\n",
              "      <td>1010.000000</td>\n",
              "      <td>1010.000000</td>\n",
              "      <td>1010.000000</td>\n",
              "      <td>1.010000e+03</td>\n",
              "    </tr>\n",
              "    <tr>\n",
              "      <th>mean</th>\n",
              "      <td>276.539604</td>\n",
              "      <td>237.432673</td>\n",
              "      <td>4.668317</td>\n",
              "      <td>3.607921</td>\n",
              "      <td>1.920792</td>\n",
              "      <td>7.628987e+09</td>\n",
              "    </tr>\n",
              "    <tr>\n",
              "      <th>std</th>\n",
              "      <td>177.864557</td>\n",
              "      <td>179.957604</td>\n",
              "      <td>1.572776</td>\n",
              "      <td>1.420066</td>\n",
              "      <td>1.510998</td>\n",
              "      <td>7.340946e+09</td>\n",
              "    </tr>\n",
              "    <tr>\n",
              "      <th>min</th>\n",
              "      <td>40.000000</td>\n",
              "      <td>25.000000</td>\n",
              "      <td>2.000000</td>\n",
              "      <td>1.000000</td>\n",
              "      <td>0.000000</td>\n",
              "      <td>4.300000e+08</td>\n",
              "    </tr>\n",
              "    <tr>\n",
              "      <th>25%</th>\n",
              "      <td>150.000000</td>\n",
              "      <td>130.000000</td>\n",
              "      <td>4.000000</td>\n",
              "      <td>3.000000</td>\n",
              "      <td>1.000000</td>\n",
              "      <td>3.262500e+09</td>\n",
              "    </tr>\n",
              "    <tr>\n",
              "      <th>50%</th>\n",
              "      <td>216.500000</td>\n",
              "      <td>165.000000</td>\n",
              "      <td>4.000000</td>\n",
              "      <td>3.000000</td>\n",
              "      <td>2.000000</td>\n",
              "      <td>5.000000e+09</td>\n",
              "    </tr>\n",
              "    <tr>\n",
              "      <th>75%</th>\n",
              "      <td>350.000000</td>\n",
              "      <td>290.000000</td>\n",
              "      <td>5.000000</td>\n",
              "      <td>4.000000</td>\n",
              "      <td>2.000000</td>\n",
              "      <td>9.000000e+09</td>\n",
              "    </tr>\n",
              "    <tr>\n",
              "      <th>max</th>\n",
              "      <td>1126.000000</td>\n",
              "      <td>1400.000000</td>\n",
              "      <td>10.000000</td>\n",
              "      <td>10.000000</td>\n",
              "      <td>10.000000</td>\n",
              "      <td>6.500000e+10</td>\n",
              "    </tr>\n",
              "  </tbody>\n",
              "</table>\n",
              "</div>\n",
              "      <button class=\"colab-df-convert\" onclick=\"convertToInteractive('df-6e37c319-6914-4735-b631-c42648df3df0')\"\n",
              "              title=\"Convert this dataframe to an interactive table.\"\n",
              "              style=\"display:none;\">\n",
              "        \n",
              "  <svg xmlns=\"http://www.w3.org/2000/svg\" height=\"24px\"viewBox=\"0 0 24 24\"\n",
              "       width=\"24px\">\n",
              "    <path d=\"M0 0h24v24H0V0z\" fill=\"none\"/>\n",
              "    <path d=\"M18.56 5.44l.94 2.06.94-2.06 2.06-.94-2.06-.94-.94-2.06-.94 2.06-2.06.94zm-11 1L8.5 8.5l.94-2.06 2.06-.94-2.06-.94L8.5 2.5l-.94 2.06-2.06.94zm10 10l.94 2.06.94-2.06 2.06-.94-2.06-.94-.94-2.06-.94 2.06-2.06.94z\"/><path d=\"M17.41 7.96l-1.37-1.37c-.4-.4-.92-.59-1.43-.59-.52 0-1.04.2-1.43.59L10.3 9.45l-7.72 7.72c-.78.78-.78 2.05 0 2.83L4 21.41c.39.39.9.59 1.41.59.51 0 1.02-.2 1.41-.59l7.78-7.78 2.81-2.81c.8-.78.8-2.07 0-2.86zM5.41 20L4 18.59l7.72-7.72 1.47 1.35L5.41 20z\"/>\n",
              "  </svg>\n",
              "      </button>\n",
              "      \n",
              "  <style>\n",
              "    .colab-df-container {\n",
              "      display:flex;\n",
              "      flex-wrap:wrap;\n",
              "      gap: 12px;\n",
              "    }\n",
              "\n",
              "    .colab-df-convert {\n",
              "      background-color: #E8F0FE;\n",
              "      border: none;\n",
              "      border-radius: 50%;\n",
              "      cursor: pointer;\n",
              "      display: none;\n",
              "      fill: #1967D2;\n",
              "      height: 32px;\n",
              "      padding: 0 0 0 0;\n",
              "      width: 32px;\n",
              "    }\n",
              "\n",
              "    .colab-df-convert:hover {\n",
              "      background-color: #E2EBFA;\n",
              "      box-shadow: 0px 1px 2px rgba(60, 64, 67, 0.3), 0px 1px 3px 1px rgba(60, 64, 67, 0.15);\n",
              "      fill: #174EA6;\n",
              "    }\n",
              "\n",
              "    [theme=dark] .colab-df-convert {\n",
              "      background-color: #3B4455;\n",
              "      fill: #D2E3FC;\n",
              "    }\n",
              "\n",
              "    [theme=dark] .colab-df-convert:hover {\n",
              "      background-color: #434B5C;\n",
              "      box-shadow: 0px 1px 3px 1px rgba(0, 0, 0, 0.15);\n",
              "      filter: drop-shadow(0px 1px 2px rgba(0, 0, 0, 0.3));\n",
              "      fill: #FFFFFF;\n",
              "    }\n",
              "  </style>\n",
              "\n",
              "      <script>\n",
              "        const buttonEl =\n",
              "          document.querySelector('#df-6e37c319-6914-4735-b631-c42648df3df0 button.colab-df-convert');\n",
              "        buttonEl.style.display =\n",
              "          google.colab.kernel.accessAllowed ? 'block' : 'none';\n",
              "\n",
              "        async function convertToInteractive(key) {\n",
              "          const element = document.querySelector('#df-6e37c319-6914-4735-b631-c42648df3df0');\n",
              "          const dataTable =\n",
              "            await google.colab.kernel.invokeFunction('convertToInteractive',\n",
              "                                                     [key], {});\n",
              "          if (!dataTable) return;\n",
              "\n",
              "          const docLinkHtml = 'Like what you see? Visit the ' +\n",
              "            '<a target=\"_blank\" href=https://colab.research.google.com/notebooks/data_table.ipynb>data table notebook</a>'\n",
              "            + ' to learn more about interactive tables.';\n",
              "          element.innerHTML = '';\n",
              "          dataTable['output_type'] = 'display_data';\n",
              "          await google.colab.output.renderOutput(dataTable, element);\n",
              "          const docLink = document.createElement('div');\n",
              "          docLink.innerHTML = docLinkHtml;\n",
              "          element.appendChild(docLink);\n",
              "        }\n",
              "      </script>\n",
              "    </div>\n",
              "  </div>\n",
              "  "
            ]
          },
          "metadata": {},
          "execution_count": 6
        }
      ]
    },
    {
      "cell_type": "markdown",
      "source": [
        "### Identify outliers"
      ],
      "metadata": {
        "id": "ORwdCBOaIcHc"
      }
    },
    {
      "cell_type": "markdown",
      "source": [
        "#### Identification of outlier attribute LB"
      ],
      "metadata": {
        "id": "hL2wChGsIcHd"
      }
    },
    {
      "cell_type": "code",
      "source": [
        "import seaborn as sns\n",
        "\n",
        "sns.boxplot(x='LB', data=df);"
      ],
      "metadata": {
        "execution": {
          "iopub.status.busy": "2023-04-14T10:49:40.675616Z",
          "iopub.execute_input": "2023-04-14T10:49:40.676402Z",
          "iopub.status.idle": "2023-04-14T10:49:41.968147Z",
          "shell.execute_reply.started": "2023-04-14T10:49:40.676350Z",
          "shell.execute_reply": "2023-04-14T10:49:41.966964Z"
        },
        "trusted": true,
        "colab": {
          "base_uri": "https://localhost:8080/",
          "height": 449
        },
        "id": "xUbl9_82IcHd",
        "outputId": "5e64222b-fbdc-4ff1-d37d-76890d3d9922"
      },
      "execution_count": null,
      "outputs": [
        {
          "output_type": "display_data",
          "data": {
            "text/plain": [
              "<Figure size 640x480 with 1 Axes>"
            ],
            "image/png": "[encoded data removed]"
          },
          "metadata": {}
        }
      ]
    },
    {
      "cell_type": "markdown",
      "source": [
        "Look for Q1, Q3, upper limit, lower limit, difference between Q3 and Q1 to find which data on the LB attribute are outliers"
      ],
      "metadata": {
        "id": "sAhWwqzzIcHd"
      }
    },
    {
      "cell_type": "code",
      "source": [
        "import numpy as np\n",
        "\n",
        "q11,q31=np.percentile(df['LB'], [25,75])\n",
        "s1 = q31-q11\n",
        "ba1 = q31+(1.5*s1)\n",
        "bw1 = q11-(1.5*s1)\n",
        "print(q11)\n",
        "print(q31)\n",
        "print(s1)\n",
        "print(ba1)\n",
        "print(bw1)"
      ],
      "metadata": {
        "execution": {
          "iopub.status.busy": "2023-04-14T10:49:41.969383Z",
          "iopub.execute_input": "2023-04-14T10:49:41.969714Z",
          "iopub.status.idle": "2023-04-14T10:49:41.978720Z",
          "shell.execute_reply.started": "2023-04-14T10:49:41.969683Z",
          "shell.execute_reply": "2023-04-14T10:49:41.977556Z"
        },
        "trusted": true,
        "colab": {
          "base_uri": "https://localhost:8080/"
        },
        "id": "_91DGwfgIcHd",
        "outputId": "f42c9bfd-9be5-4d72-9005-e7825a121632"
      },
      "execution_count": null,
      "outputs": [
        {
          "output_type": "stream",
          "name": "stdout",
          "text": [
            "150.0\n",
            "350.0\n",
            "200.0\n",
            "650.0\n",
            "-150.0\n"
          ]
        }
      ]
    },
    {
      "cell_type": "code",
      "source": [
        "# shows outlier data on the LB attribute\n",
        "dt1 = df[(df['LB']<bw1) | (df['LB']>ba1)]\n",
        "dt1.head()"
      ],
      "metadata": {
        "execution": {
          "iopub.status.busy": "2023-04-14T10:49:41.980317Z",
          "iopub.execute_input": "2023-04-14T10:49:41.980667Z",
          "iopub.status.idle": "2023-04-14T10:49:41.999348Z",
          "shell.execute_reply.started": "2023-04-14T10:49:41.980634Z",
          "shell.execute_reply": "2023-04-14T10:49:41.998026Z"
        },
        "trusted": true,
        "colab": {
          "base_uri": "https://localhost:8080/",
          "height": 206
        },
        "id": "1bf_5VbcIcHd",
        "outputId": "05575e34-06f4-47f4-d2a9-00fdd6b72c1e"
      },
      "execution_count": null,
      "outputs": [
        {
          "output_type": "execute_result",
          "data": {
            "text/plain": [
              "      LB    LT  KT  KM  GRS        HARGA\n",
              "31   900   600   7   7    1  42000000000\n",
              "50   850   600   7   7    0  41000000000\n",
              "54   750   610   8   6    4  23000000000\n",
              "102  800  1225   6   9    2  15000000000\n",
              "103  800   752   6   4    0  30000000000"
            ],
            "text/html": [
              "\n",
              "  <div id=\"df-644a1e96-46df-4398-a158-f0768abfbf4b\">\n",
              "    <div class=\"colab-df-container\">\n",
              "      <div>\n",
              "<style scoped>\n",
              "    .dataframe tbody tr th:only-of-type {\n",
              "        vertical-align: middle;\n",
              "    }\n",
              "\n",
              "    .dataframe tbody tr th {\n",
              "        vertical-align: top;\n",
              "    }\n",
              "\n",
              "    .dataframe thead th {\n",
              "        text-align: right;\n",
              "    }\n",
              "</style>\n",
              "<table border=\"1\" class=\"dataframe\">\n",
              "  <thead>\n",
              "    <tr style=\"text-align: right;\">\n",
              "      <th></th>\n",
              "      <th>LB</th>\n",
              "      <th>LT</th>\n",
              "      <th>KT</th>\n",
              "      <th>KM</th>\n",
              "      <th>GRS</th>\n",
              "      <th>HARGA</th>\n",
              "    </tr>\n",
              "  </thead>\n",
              "  <tbody>\n",
              "    <tr>\n",
              "      <th>31</th>\n",
              "      <td>900</td>\n",
              "      <td>600</td>\n",
              "      <td>7</td>\n",
              "      <td>7</td>\n",
              "      <td>1</td>\n",
              "      <td>42000000000</td>\n",
              "    </tr>\n",
              "    <tr>\n",
              "      <th>50</th>\n",
              "      <td>850</td>\n",
              "      <td>600</td>\n",
              "      <td>7</td>\n",
              "      <td>7</td>\n",
              "      <td>0</td>\n",
              "      <td>41000000000</td>\n",
              "    </tr>\n",
              "    <tr>\n",
              "      <th>54</th>\n",
              "      <td>750</td>\n",
              "      <td>610</td>\n",
              "      <td>8</td>\n",
              "      <td>6</td>\n",
              "      <td>4</td>\n",
              "      <td>23000000000</td>\n",
              "    </tr>\n",
              "    <tr>\n",
              "      <th>102</th>\n",
              "      <td>800</td>\n",
              "      <td>1225</td>\n",
              "      <td>6</td>\n",
              "      <td>9</td>\n",
              "      <td>2</td>\n",
              "      <td>15000000000</td>\n",
              "    </tr>\n",
              "    <tr>\n",
              "      <th>103</th>\n",
              "      <td>800</td>\n",
              "      <td>752</td>\n",
              "      <td>6</td>\n",
              "      <td>4</td>\n",
              "      <td>0</td>\n",
              "      <td>30000000000</td>\n",
              "    </tr>\n",
              "  </tbody>\n",
              "</table>\n",
              "</div>\n",
              "      <button class=\"colab-df-convert\" onclick=\"convertToInteractive('df-644a1e96-46df-4398-a158-f0768abfbf4b')\"\n",
              "              title=\"Convert this dataframe to an interactive table.\"\n",
              "              style=\"display:none;\">\n",
              "        \n",
              "  <svg xmlns=\"http://www.w3.org/2000/svg\" height=\"24px\"viewBox=\"0 0 24 24\"\n",
              "       width=\"24px\">\n",
              "    <path d=\"M0 0h24v24H0V0z\" fill=\"none\"/>\n",
              "    <path d=\"M18.56 5.44l.94 2.06.94-2.06 2.06-.94-2.06-.94-.94-2.06-.94 2.06-2.06.94zm-11 1L8.5 8.5l.94-2.06 2.06-.94-2.06-.94L8.5 2.5l-.94 2.06-2.06.94zm10 10l.94 2.06.94-2.06 2.06-.94-2.06-.94-.94-2.06-.94 2.06-2.06.94z\"/><path d=\"M17.41 7.96l-1.37-1.37c-.4-.4-.92-.59-1.43-.59-.52 0-1.04.2-1.43.59L10.3 9.45l-7.72 7.72c-.78.78-.78 2.05 0 2.83L4 21.41c.39.39.9.59 1.41.59.51 0 1.02-.2 1.41-.59l7.78-7.78 2.81-2.81c.8-.78.8-2.07 0-2.86zM5.41 20L4 18.59l7.72-7.72 1.47 1.35L5.41 20z\"/>\n",
              "  </svg>\n",
              "      </button>\n",
              "      \n",
              "  <style>\n",
              "    .colab-df-container {\n",
              "      display:flex;\n",
              "      flex-wrap:wrap;\n",
              "      gap: 12px;\n",
              "    }\n",
              "\n",
              "    .colab-df-convert {\n",
              "      background-color: #E8F0FE;\n",
              "      border: none;\n",
              "      border-radius: 50%;\n",
              "      cursor: pointer;\n",
              "      display: none;\n",
              "      fill: #1967D2;\n",
              "      height: 32px;\n",
              "      padding: 0 0 0 0;\n",
              "      width: 32px;\n",
              "    }\n",
              "\n",
              "    .colab-df-convert:hover {\n",
              "      background-color: #E2EBFA;\n",
              "      box-shadow: 0px 1px 2px rgba(60, 64, 67, 0.3), 0px 1px 3px 1px rgba(60, 64, 67, 0.15);\n",
              "      fill: #174EA6;\n",
              "    }\n",
              "\n",
              "    [theme=dark] .colab-df-convert {\n",
              "      background-color: #3B4455;\n",
              "      fill: #D2E3FC;\n",
              "    }\n",
              "\n",
              "    [theme=dark] .colab-df-convert:hover {\n",
              "      background-color: #434B5C;\n",
              "      box-shadow: 0px 1px 3px 1px rgba(0, 0, 0, 0.15);\n",
              "      filter: drop-shadow(0px 1px 2px rgba(0, 0, 0, 0.3));\n",
              "      fill: #FFFFFF;\n",
              "    }\n",
              "  </style>\n",
              "\n",
              "      <script>\n",
              "        const buttonEl =\n",
              "          document.querySelector('#df-644a1e96-46df-4398-a158-f0768abfbf4b button.colab-df-convert');\n",
              "        buttonEl.style.display =\n",
              "          google.colab.kernel.accessAllowed ? 'block' : 'none';\n",
              "\n",
              "        async function convertToInteractive(key) {\n",
              "          const element = document.querySelector('#df-644a1e96-46df-4398-a158-f0768abfbf4b');\n",
              "          const dataTable =\n",
              "            await google.colab.kernel.invokeFunction('convertToInteractive',\n",
              "                                                     [key], {});\n",
              "          if (!dataTable) return;\n",
              "\n",
              "          const docLinkHtml = 'Like what you see? Visit the ' +\n",
              "            '<a target=\"_blank\" href=https://colab.research.google.com/notebooks/data_table.ipynb>data table notebook</a>'\n",
              "            + ' to learn more about interactive tables.';\n",
              "          element.innerHTML = '';\n",
              "          dataTable['output_type'] = 'display_data';\n",
              "          await google.colab.output.renderOutput(dataTable, element);\n",
              "          const docLink = document.createElement('div');\n",
              "          docLink.innerHTML = docLinkHtml;\n",
              "          element.appendChild(docLink);\n",
              "        }\n",
              "      </script>\n",
              "    </div>\n",
              "  </div>\n",
              "  "
            ]
          },
          "metadata": {},
          "execution_count": 9
        }
      ]
    },
    {
      "cell_type": "markdown",
      "source": [
        "#### Identification of outlier attribute LT"
      ],
      "metadata": {
        "id": "v-5GpVcLIcHe"
      }
    },
    {
      "cell_type": "code",
      "source": [
        "sns.boxplot(x='LT', data=df);"
      ],
      "metadata": {
        "execution": {
          "iopub.status.busy": "2023-04-14T10:49:42.001457Z",
          "iopub.execute_input": "2023-04-14T10:49:42.001978Z",
          "iopub.status.idle": "2023-04-14T10:49:42.208852Z",
          "shell.execute_reply.started": "2023-04-14T10:49:42.001915Z",
          "shell.execute_reply": "2023-04-14T10:49:42.207527Z"
        },
        "trusted": true,
        "colab": {
          "base_uri": "https://localhost:8080/",
          "height": 449
        },
        "id": "lcY3634KIcHe",
        "outputId": "31bdabbd-55d4-4460-fdcc-9ac850bd9fd4"
      },
      "execution_count": null,
      "outputs": [
        {
          "output_type": "display_data",
          "data": {
            "text/plain": [
              "<Figure size 640x480 with 1 Axes>"
            ],
            "image/png": "[encoded data removed]"
          },
          "metadata": {}
        }
      ]
    },
    {
      "cell_type": "markdown",
      "source": [
        "Look for Q1, Q3, upper limit, lower limit, difference between Q3 and Q1 to find which data on the LT attribute are outliers"
      ],
      "metadata": {
        "id": "1piKFPFVIcHe"
      }
    },
    {
      "cell_type": "code",
      "source": [
        "q12,q32=np.percentile(df['LT'], [25,75])\n",
        "s2 = q32-q12\n",
        "ba2 = q32+(1.5*s2)\n",
        "bw2 = q12-(1.5*s2)\n",
        "print(q12)\n",
        "print(q32)\n",
        "print(s2)\n",
        "print(ba2)\n",
        "print(bw2)"
      ],
      "metadata": {
        "execution": {
          "iopub.status.busy": "2023-04-14T10:49:42.214915Z",
          "iopub.execute_input": "2023-04-14T10:49:42.215324Z",
          "iopub.status.idle": "2023-04-14T10:49:42.222968Z",
          "shell.execute_reply.started": "2023-04-14T10:49:42.215285Z",
          "shell.execute_reply": "2023-04-14T10:49:42.221584Z"
        },
        "trusted": true,
        "colab": {
          "base_uri": "https://localhost:8080/"
        },
        "id": "ZwBwyFf6IcHe",
        "outputId": "7911472b-dce2-4807-d6ad-51d279999007"
      },
      "execution_count": null,
      "outputs": [
        {
          "output_type": "stream",
          "name": "stdout",
          "text": [
            "130.0\n",
            "290.0\n",
            "160.0\n",
            "530.0\n",
            "-110.0\n"
          ]
        }
      ]
    },
    {
      "cell_type": "code",
      "source": [
        "# shows outlier data on the LT attribute\n",
        "dt2 = df[(df['LT']<bw2) | (df['LT']>ba2)]\n",
        "dt2.head()"
      ],
      "metadata": {
        "execution": {
          "iopub.status.busy": "2023-04-14T10:49:42.224657Z",
          "iopub.execute_input": "2023-04-14T10:49:42.225057Z",
          "iopub.status.idle": "2023-04-14T10:49:42.242516Z",
          "shell.execute_reply.started": "2023-04-14T10:49:42.225020Z",
          "shell.execute_reply": "2023-04-14T10:49:42.241192Z"
        },
        "trusted": true,
        "colab": {
          "base_uri": "https://localhost:8080/",
          "height": 206
        },
        "id": "PCP2jSUQIcHf",
        "outputId": "e631f933-1a92-4089-fb43-49b44c4a81fe"
      },
      "execution_count": null,
      "outputs": [
        {
          "output_type": "execute_result",
          "data": {
            "text/plain": [
              "     LB   LT  KT  KM  GRS        HARGA\n",
              "13  200  979   4   2    6  12500000000\n",
              "20  300  700   8   5    2  14000000000\n",
              "24  650  695   9   6    2  11000000000\n",
              "31  900  600   7   7    1  42000000000\n",
              "43  339  643   7   5    5  15000000000"
            ],
            "text/html": [
              "\n",
              "  <div id=\"df-4279ff4e-bd71-45f0-b48b-5ea5569177db\">\n",
              "    <div class=\"colab-df-container\">\n",
              "      <div>\n",
              "<style scoped>\n",
              "    .dataframe tbody tr th:only-of-type {\n",
              "        vertical-align: middle;\n",
              "    }\n",
              "\n",
              "    .dataframe tbody tr th {\n",
              "        vertical-align: top;\n",
              "    }\n",
              "\n",
              "    .dataframe thead th {\n",
              "        text-align: right;\n",
              "    }\n",
              "</style>\n",
              "<table border=\"1\" class=\"dataframe\">\n",
              "  <thead>\n",
              "    <tr style=\"text-align: right;\">\n",
              "      <th></th>\n",
              "      <th>LB</th>\n",
              "      <th>LT</th>\n",
              "      <th>KT</th>\n",
              "      <th>KM</th>\n",
              "      <th>GRS</th>\n",
              "      <th>HARGA</th>\n",
              "    </tr>\n",
              "  </thead>\n",
              "  <tbody>\n",
              "    <tr>\n",
              "      <th>13</th>\n",
              "      <td>200</td>\n",
              "      <td>979</td>\n",
              "      <td>4</td>\n",
              "      <td>2</td>\n",
              "      <td>6</td>\n",
              "      <td>12500000000</td>\n",
              "    </tr>\n",
              "    <tr>\n",
              "      <th>20</th>\n",
              "      <td>300</td>\n",
              "      <td>700</td>\n",
              "      <td>8</td>\n",
              "      <td>5</td>\n",
              "      <td>2</td>\n",
              "      <td>14000000000</td>\n",
              "    </tr>\n",
              "    <tr>\n",
              "      <th>24</th>\n",
              "      <td>650</td>\n",
              "      <td>695</td>\n",
              "      <td>9</td>\n",
              "      <td>6</td>\n",
              "      <td>2</td>\n",
              "      <td>11000000000</td>\n",
              "    </tr>\n",
              "    <tr>\n",
              "      <th>31</th>\n",
              "      <td>900</td>\n",
              "      <td>600</td>\n",
              "      <td>7</td>\n",
              "      <td>7</td>\n",
              "      <td>1</td>\n",
              "      <td>42000000000</td>\n",
              "    </tr>\n",
              "    <tr>\n",
              "      <th>43</th>\n",
              "      <td>339</td>\n",
              "      <td>643</td>\n",
              "      <td>7</td>\n",
              "      <td>5</td>\n",
              "      <td>5</td>\n",
              "      <td>15000000000</td>\n",
              "    </tr>\n",
              "  </tbody>\n",
              "</table>\n",
              "</div>\n",
              "      <button class=\"colab-df-convert\" onclick=\"convertToInteractive('df-4279ff4e-bd71-45f0-b48b-5ea5569177db')\"\n",
              "              title=\"Convert this dataframe to an interactive table.\"\n",
              "              style=\"display:none;\">\n",
              "        \n",
              "  <svg xmlns=\"http://www.w3.org/2000/svg\" height=\"24px\"viewBox=\"0 0 24 24\"\n",
              "       width=\"24px\">\n",
              "    <path d=\"M0 0h24v24H0V0z\" fill=\"none\"/>\n",
              "    <path d=\"M18.56 5.44l.94 2.06.94-2.06 2.06-.94-2.06-.94-.94-2.06-.94 2.06-2.06.94zm-11 1L8.5 8.5l.94-2.06 2.06-.94-2.06-.94L8.5 2.5l-.94 2.06-2.06.94zm10 10l.94 2.06.94-2.06 2.06-.94-2.06-.94-.94-2.06-.94 2.06-2.06.94z\"/><path d=\"M17.41 7.96l-1.37-1.37c-.4-.4-.92-.59-1.43-.59-.52 0-1.04.2-1.43.59L10.3 9.45l-7.72 7.72c-.78.78-.78 2.05 0 2.83L4 21.41c.39.39.9.59 1.41.59.51 0 1.02-.2 1.41-.59l7.78-7.78 2.81-2.81c.8-.78.8-2.07 0-2.86zM5.41 20L4 18.59l7.72-7.72 1.47 1.35L5.41 20z\"/>\n",
              "  </svg>\n",
              "      </button>\n",
              "      \n",
              "  <style>\n",
              "    .colab-df-container {\n",
              "      display:flex;\n",
              "      flex-wrap:wrap;\n",
              "      gap: 12px;\n",
              "    }\n",
              "\n",
              "    .colab-df-convert {\n",
              "      background-color: #E8F0FE;\n",
              "      border: none;\n",
              "      border-radius: 50%;\n",
              "      cursor: pointer;\n",
              "      display: none;\n",
              "      fill: #1967D2;\n",
              "      height: 32px;\n",
              "      padding: 0 0 0 0;\n",
              "      width: 32px;\n",
              "    }\n",
              "\n",
              "    .colab-df-convert:hover {\n",
              "      background-color: #E2EBFA;\n",
              "      box-shadow: 0px 1px 2px rgba(60, 64, 67, 0.3), 0px 1px 3px 1px rgba(60, 64, 67, 0.15);\n",
              "      fill: #174EA6;\n",
              "    }\n",
              "\n",
              "    [theme=dark] .colab-df-convert {\n",
              "      background-color: #3B4455;\n",
              "      fill: #D2E3FC;\n",
              "    }\n",
              "\n",
              "    [theme=dark] .colab-df-convert:hover {\n",
              "      background-color: #434B5C;\n",
              "      box-shadow: 0px 1px 3px 1px rgba(0, 0, 0, 0.15);\n",
              "      filter: drop-shadow(0px 1px 2px rgba(0, 0, 0, 0.3));\n",
              "      fill: #FFFFFF;\n",
              "    }\n",
              "  </style>\n",
              "\n",
              "      <script>\n",
              "        const buttonEl =\n",
              "          document.querySelector('#df-4279ff4e-bd71-45f0-b48b-5ea5569177db button.colab-df-convert');\n",
              "        buttonEl.style.display =\n",
              "          google.colab.kernel.accessAllowed ? 'block' : 'none';\n",
              "\n",
              "        async function convertToInteractive(key) {\n",
              "          const element = document.querySelector('#df-4279ff4e-bd71-45f0-b48b-5ea5569177db');\n",
              "          const dataTable =\n",
              "            await google.colab.kernel.invokeFunction('convertToInteractive',\n",
              "                                                     [key], {});\n",
              "          if (!dataTable) return;\n",
              "\n",
              "          const docLinkHtml = 'Like what you see? Visit the ' +\n",
              "            '<a target=\"_blank\" href=https://colab.research.google.com/notebooks/data_table.ipynb>data table notebook</a>'\n",
              "            + ' to learn more about interactive tables.';\n",
              "          element.innerHTML = '';\n",
              "          dataTable['output_type'] = 'display_data';\n",
              "          await google.colab.output.renderOutput(dataTable, element);\n",
              "          const docLink = document.createElement('div');\n",
              "          docLink.innerHTML = docLinkHtml;\n",
              "          element.appendChild(docLink);\n",
              "        }\n",
              "      </script>\n",
              "    </div>\n",
              "  </div>\n",
              "  "
            ]
          },
          "metadata": {},
          "execution_count": 12
        }
      ]
    },
    {
      "cell_type": "markdown",
      "source": [
        "#### Identification of outlier attribute KT"
      ],
      "metadata": {
        "id": "VWdP8FqmIcHf"
      }
    },
    {
      "cell_type": "code",
      "source": [
        "sns.boxplot(x='KT', data=df);"
      ],
      "metadata": {
        "execution": {
          "iopub.status.busy": "2023-04-14T10:49:42.244449Z",
          "iopub.execute_input": "2023-04-14T10:49:42.244935Z",
          "iopub.status.idle": "2023-04-14T10:49:42.431700Z",
          "shell.execute_reply.started": "2023-04-14T10:49:42.244886Z",
          "shell.execute_reply": "2023-04-14T10:49:42.430761Z"
        },
        "trusted": true,
        "colab": {
          "base_uri": "https://localhost:8080/",
          "height": 449
        },
        "id": "J-OASF-UIcHf",
        "outputId": "b9d1b34e-1d1b-4ae5-dea9-1d52ede1a83d"
      },
      "execution_count": null,
      "outputs": [
        {
          "output_type": "display_data",
          "data": {
            "text/plain": [
              "<Figure size 640x480 with 1 Axes>"
            ],
            "image/png": "[encoded data removed]"
          },
          "metadata": {}
        }
      ]
    },
    {
      "cell_type": "markdown",
      "source": [
        "Look for Q1, Q3, upper limit, lower limit, difference between Q3 and Q1 to find which data on the KT attribute are outliers"
      ],
      "metadata": {
        "id": "LX14TCehIcHg"
      }
    },
    {
      "cell_type": "code",
      "source": [
        "q13,q33=np.percentile(df['KT'], [25,75])\n",
        "s3 = q33-q13\n",
        "ba3 = q33+(1.5*s3)\n",
        "bw3 = q13-(1.5*s3)\n",
        "print(q13)\n",
        "print(q33)\n",
        "print(s3)\n",
        "print(ba3)\n",
        "print(bw3)"
      ],
      "metadata": {
        "execution": {
          "iopub.status.busy": "2023-04-14T10:49:42.433493Z",
          "iopub.execute_input": "2023-04-14T10:49:42.434272Z",
          "iopub.status.idle": "2023-04-14T10:49:42.444102Z",
          "shell.execute_reply.started": "2023-04-14T10:49:42.434221Z",
          "shell.execute_reply": "2023-04-14T10:49:42.442703Z"
        },
        "trusted": true,
        "colab": {
          "base_uri": "https://localhost:8080/"
        },
        "id": "N8nP9_qyIcHg",
        "outputId": "80e71a1c-c5ad-4327-f027-d1630286786c"
      },
      "execution_count": null,
      "outputs": [
        {
          "output_type": "stream",
          "name": "stdout",
          "text": [
            "4.0\n",
            "5.0\n",
            "1.0\n",
            "6.5\n",
            "2.5\n"
          ]
        }
      ]
    },
    {
      "cell_type": "code",
      "source": [
        "# shows outlier data on the KT attribute\n",
        "dt3 = df[(df['KT']<bw3) | (df['KT']>ba3)]\n",
        "dt3.head()"
      ],
      "metadata": {
        "execution": {
          "iopub.status.busy": "2023-04-14T10:49:42.446162Z",
          "iopub.execute_input": "2023-04-14T10:49:42.447002Z",
          "iopub.status.idle": "2023-04-14T10:49:42.462997Z",
          "shell.execute_reply.started": "2023-04-14T10:49:42.446951Z",
          "shell.execute_reply": "2023-04-14T10:49:42.461536Z"
        },
        "trusted": true,
        "colab": {
          "base_uri": "https://localhost:8080/",
          "height": 206
        },
        "id": "R_gv-kgyIcHg",
        "outputId": "7e30c92e-f280-4a26-d6a6-fd97c8bc4e2b"
      },
      "execution_count": null,
      "outputs": [
        {
          "output_type": "execute_result",
          "data": {
            "text/plain": [
              "     LB   LT  KT  KM  GRS        HARGA\n",
              "3    40   25   2   2    0    430000000\n",
              "20  300  700   8   5    2  14000000000\n",
              "21  315  218   7   3    2   8000000000\n",
              "22   75   75   2   3    0    700000000\n",
              "24  650  695   9   6    2  11000000000"
            ],
            "text/html": [
              "\n",
              "  <div id=\"df-b7d27cb2-5092-429e-b8a4-3b9bb1c81a91\">\n",
              "    <div class=\"colab-df-container\">\n",
              "      <div>\n",
              "<style scoped>\n",
              "    .dataframe tbody tr th:only-of-type {\n",
              "        vertical-align: middle;\n",
              "    }\n",
              "\n",
              "    .dataframe tbody tr th {\n",
              "        vertical-align: top;\n",
              "    }\n",
              "\n",
              "    .dataframe thead th {\n",
              "        text-align: right;\n",
              "    }\n",
              "</style>\n",
              "<table border=\"1\" class=\"dataframe\">\n",
              "  <thead>\n",
              "    <tr style=\"text-align: right;\">\n",
              "      <th></th>\n",
              "      <th>LB</th>\n",
              "      <th>LT</th>\n",
              "      <th>KT</th>\n",
              "      <th>KM</th>\n",
              "      <th>GRS</th>\n",
              "      <th>HARGA</th>\n",
              "    </tr>\n",
              "  </thead>\n",
              "  <tbody>\n",
              "    <tr>\n",
              "      <th>3</th>\n",
              "      <td>40</td>\n",
              "      <td>25</td>\n",
              "      <td>2</td>\n",
              "      <td>2</td>\n",
              "      <td>0</td>\n",
              "      <td>430000000</td>\n",
              "    </tr>\n",
              "    <tr>\n",
              "      <th>20</th>\n",
              "      <td>300</td>\n",
              "      <td>700</td>\n",
              "      <td>8</td>\n",
              "      <td>5</td>\n",
              "      <td>2</td>\n",
              "      <td>14000000000</td>\n",
              "    </tr>\n",
              "    <tr>\n",
              "      <th>21</th>\n",
              "      <td>315</td>\n",
              "      <td>218</td>\n",
              "      <td>7</td>\n",
              "      <td>3</td>\n",
              "      <td>2</td>\n",
              "      <td>8000000000</td>\n",
              "    </tr>\n",
              "    <tr>\n",
              "      <th>22</th>\n",
              "      <td>75</td>\n",
              "      <td>75</td>\n",
              "      <td>2</td>\n",
              "      <td>3</td>\n",
              "      <td>0</td>\n",
              "      <td>700000000</td>\n",
              "    </tr>\n",
              "    <tr>\n",
              "      <th>24</th>\n",
              "      <td>650</td>\n",
              "      <td>695</td>\n",
              "      <td>9</td>\n",
              "      <td>6</td>\n",
              "      <td>2</td>\n",
              "      <td>11000000000</td>\n",
              "    </tr>\n",
              "  </tbody>\n",
              "</table>\n",
              "</div>\n",
              "      <button class=\"colab-df-convert\" onclick=\"convertToInteractive('df-b7d27cb2-5092-429e-b8a4-3b9bb1c81a91')\"\n",
              "              title=\"Convert this dataframe to an interactive table.\"\n",
              "              style=\"display:none;\">\n",
              "        \n",
              "  <svg xmlns=\"http://www.w3.org/2000/svg\" height=\"24px\"viewBox=\"0 0 24 24\"\n",
              "       width=\"24px\">\n",
              "    <path d=\"M0 0h24v24H0V0z\" fill=\"none\"/>\n",
              "    <path d=\"M18.56 5.44l.94 2.06.94-2.06 2.06-.94-2.06-.94-.94-2.06-.94 2.06-2.06.94zm-11 1L8.5 8.5l.94-2.06 2.06-.94-2.06-.94L8.5 2.5l-.94 2.06-2.06.94zm10 10l.94 2.06.94-2.06 2.06-.94-2.06-.94-.94-2.06-.94 2.06-2.06.94z\"/><path d=\"M17.41 7.96l-1.37-1.37c-.4-.4-.92-.59-1.43-.59-.52 0-1.04.2-1.43.59L10.3 9.45l-7.72 7.72c-.78.78-.78 2.05 0 2.83L4 21.41c.39.39.9.59 1.41.59.51 0 1.02-.2 1.41-.59l7.78-7.78 2.81-2.81c.8-.78.8-2.07 0-2.86zM5.41 20L4 18.59l7.72-7.72 1.47 1.35L5.41 20z\"/>\n",
              "  </svg>\n",
              "      </button>\n",
              "      \n",
              "  <style>\n",
              "    .colab-df-container {\n",
              "      display:flex;\n",
              "      flex-wrap:wrap;\n",
              "      gap: 12px;\n",
              "    }\n",
              "\n",
              "    .colab-df-convert {\n",
              "      background-color: #E8F0FE;\n",
              "      border: none;\n",
              "      border-radius: 50%;\n",
              "      cursor: pointer;\n",
              "      display: none;\n",
              "      fill: #1967D2;\n",
              "      height: 32px;\n",
              "      padding: 0 0 0 0;\n",
              "      width: 32px;\n",
              "    }\n",
              "\n",
              "    .colab-df-convert:hover {\n",
              "      background-color: #E2EBFA;\n",
              "      box-shadow: 0px 1px 2px rgba(60, 64, 67, 0.3), 0px 1px 3px 1px rgba(60, 64, 67, 0.15);\n",
              "      fill: #174EA6;\n",
              "    }\n",
              "\n",
              "    [theme=dark] .colab-df-convert {\n",
              "      background-color: #3B4455;\n",
              "      fill: #D2E3FC;\n",
              "    }\n",
              "\n",
              "    [theme=dark] .colab-df-convert:hover {\n",
              "      background-color: #434B5C;\n",
              "      box-shadow: 0px 1px 3px 1px rgba(0, 0, 0, 0.15);\n",
              "      filter: drop-shadow(0px 1px 2px rgba(0, 0, 0, 0.3));\n",
              "      fill: #FFFFFF;\n",
              "    }\n",
              "  </style>\n",
              "\n",
              "      <script>\n",
              "        const buttonEl =\n",
              "          document.querySelector('#df-b7d27cb2-5092-429e-b8a4-3b9bb1c81a91 button.colab-df-convert');\n",
              "        buttonEl.style.display =\n",
              "          google.colab.kernel.accessAllowed ? 'block' : 'none';\n",
              "\n",
              "        async function convertToInteractive(key) {\n",
              "          const element = document.querySelector('#df-b7d27cb2-5092-429e-b8a4-3b9bb1c81a91');\n",
              "          const dataTable =\n",
              "            await google.colab.kernel.invokeFunction('convertToInteractive',\n",
              "                                                     [key], {});\n",
              "          if (!dataTable) return;\n",
              "\n",
              "          const docLinkHtml = 'Like what you see? Visit the ' +\n",
              "            '<a target=\"_blank\" href=https://colab.research.google.com/notebooks/data_table.ipynb>data table notebook</a>'\n",
              "            + ' to learn more about interactive tables.';\n",
              "          element.innerHTML = '';\n",
              "          dataTable['output_type'] = 'display_data';\n",
              "          await google.colab.output.renderOutput(dataTable, element);\n",
              "          const docLink = document.createElement('div');\n",
              "          docLink.innerHTML = docLinkHtml;\n",
              "          element.appendChild(docLink);\n",
              "        }\n",
              "      </script>\n",
              "    </div>\n",
              "  </div>\n",
              "  "
            ]
          },
          "metadata": {},
          "execution_count": 15
        }
      ]
    },
    {
      "cell_type": "markdown",
      "source": [
        "#### Identification of outlier attribute KM"
      ],
      "metadata": {
        "id": "wJqqOye4IcHg"
      }
    },
    {
      "cell_type": "markdown",
      "source": [
        "Look for Q1, Q3, upper limit, lower limit, difference between Q3 and Q1 to find which data on the KM attribute are outliers"
      ],
      "metadata": {
        "id": "m8wQkcOrIcHg"
      }
    },
    {
      "cell_type": "code",
      "source": [
        "sns.boxplot(x='KM', data=df);"
      ],
      "metadata": {
        "execution": {
          "iopub.status.busy": "2023-04-14T10:49:42.464980Z",
          "iopub.execute_input": "2023-04-14T10:49:42.465797Z",
          "iopub.status.idle": "2023-04-14T10:49:42.588259Z",
          "shell.execute_reply.started": "2023-04-14T10:49:42.465724Z",
          "shell.execute_reply": "2023-04-14T10:49:42.586841Z"
        },
        "trusted": true,
        "colab": {
          "base_uri": "https://localhost:8080/",
          "height": 449
        },
        "id": "yF6U0CgkIcHh",
        "outputId": "75a2f5a1-f9a9-465d-eb10-37f9e52c675f"
      },
      "execution_count": null,
      "outputs": [
        {
          "output_type": "display_data",
          "data": {
            "text/plain": [
              "<Figure size 640x480 with 1 Axes>"
            ],
            "image/png": "[encoded data removed]"
          },
          "metadata": {}
        }
      ]
    },
    {
      "cell_type": "code",
      "source": [
        "q14,q34=np.percentile(df['KM'], [25,75])\n",
        "s4 = q34-q14\n",
        "ba4 = q34+(1.5*s4)\n",
        "bw4 = q14-(1.5*s4)\n",
        "print(q14)\n",
        "print(q34)\n",
        "print(s4)\n",
        "print(ba4)\n",
        "print(bw4)"
      ],
      "metadata": {
        "execution": {
          "iopub.status.busy": "2023-04-14T10:49:42.591054Z",
          "iopub.execute_input": "2023-04-14T10:49:42.591894Z",
          "iopub.status.idle": "2023-04-14T10:49:42.601927Z",
          "shell.execute_reply.started": "2023-04-14T10:49:42.591836Z",
          "shell.execute_reply": "2023-04-14T10:49:42.600833Z"
        },
        "trusted": true,
        "colab": {
          "base_uri": "https://localhost:8080/"
        },
        "id": "dLd5NSALIcHh",
        "outputId": "f31b485c-fad4-49df-f135-9296998d5141"
      },
      "execution_count": null,
      "outputs": [
        {
          "output_type": "stream",
          "name": "stdout",
          "text": [
            "3.0\n",
            "4.0\n",
            "1.0\n",
            "5.5\n",
            "1.5\n"
          ]
        }
      ]
    },
    {
      "cell_type": "code",
      "source": [
        "# shows outlier data on the KM attribute\n",
        "dt4 = df[(df['KM']<bw4) | (df['KM']>ba4)]\n",
        "dt4.head()"
      ],
      "metadata": {
        "execution": {
          "iopub.status.busy": "2023-04-14T10:49:42.603698Z",
          "iopub.execute_input": "2023-04-14T10:49:42.604541Z",
          "iopub.status.idle": "2023-04-14T10:49:42.624269Z",
          "shell.execute_reply.started": "2023-04-14T10:49:42.604485Z",
          "shell.execute_reply": "2023-04-14T10:49:42.622431Z"
        },
        "trusted": true,
        "colab": {
          "base_uri": "https://localhost:8080/",
          "height": 206
        },
        "id": "cIflIPcsIcHh",
        "outputId": "9417fd19-32c2-4557-ab34-6479304fb14c"
      },
      "execution_count": null,
      "outputs": [
        {
          "output_type": "execute_result",
          "data": {
            "text/plain": [
              "     LB   LT  KT  KM  GRS        HARGA\n",
              "24  650  695   9   6    2  11000000000\n",
              "31  900  600   7   7    1  42000000000\n",
              "32  102  102   2   1    0   1100000000\n",
              "34  145  200   8   8    1   3600000000\n",
              "45  450  240   9   9    0   6000000000"
            ],
            "text/html": [
              "\n",
              "  <div id=\"df-75f421c8-0f7e-44df-8f50-5ff29356f608\">\n",
              "    <div class=\"colab-df-container\">\n",
              "      <div>\n",
              "<style scoped>\n",
              "    .dataframe tbody tr th:only-of-type {\n",
              "        vertical-align: middle;\n",
              "    }\n",
              "\n",
              "    .dataframe tbody tr th {\n",
              "        vertical-align: top;\n",
              "    }\n",
              "\n",
              "    .dataframe thead th {\n",
              "        text-align: right;\n",
              "    }\n",
              "</style>\n",
              "<table border=\"1\" class=\"dataframe\">\n",
              "  <thead>\n",
              "    <tr style=\"text-align: right;\">\n",
              "      <th></th>\n",
              "      <th>LB</th>\n",
              "      <th>LT</th>\n",
              "      <th>KT</th>\n",
              "      <th>KM</th>\n",
              "      <th>GRS</th>\n",
              "      <th>HARGA</th>\n",
              "    </tr>\n",
              "  </thead>\n",
              "  <tbody>\n",
              "    <tr>\n",
              "      <th>24</th>\n",
              "      <td>650</td>\n",
              "      <td>695</td>\n",
              "      <td>9</td>\n",
              "      <td>6</td>\n",
              "      <td>2</td>\n",
              "      <td>11000000000</td>\n",
              "    </tr>\n",
              "    <tr>\n",
              "      <th>31</th>\n",
              "      <td>900</td>\n",
              "      <td>600</td>\n",
              "      <td>7</td>\n",
              "      <td>7</td>\n",
              "      <td>1</td>\n",
              "      <td>42000000000</td>\n",
              "    </tr>\n",
              "    <tr>\n",
              "      <th>32</th>\n",
              "      <td>102</td>\n",
              "      <td>102</td>\n",
              "      <td>2</td>\n",
              "      <td>1</td>\n",
              "      <td>0</td>\n",
              "      <td>1100000000</td>\n",
              "    </tr>\n",
              "    <tr>\n",
              "      <th>34</th>\n",
              "      <td>145</td>\n",
              "      <td>200</td>\n",
              "      <td>8</td>\n",
              "      <td>8</td>\n",
              "      <td>1</td>\n",
              "      <td>3600000000</td>\n",
              "    </tr>\n",
              "    <tr>\n",
              "      <th>45</th>\n",
              "      <td>450</td>\n",
              "      <td>240</td>\n",
              "      <td>9</td>\n",
              "      <td>9</td>\n",
              "      <td>0</td>\n",
              "      <td>6000000000</td>\n",
              "    </tr>\n",
              "  </tbody>\n",
              "</table>\n",
              "</div>\n",
              "      <button class=\"colab-df-convert\" onclick=\"convertToInteractive('df-75f421c8-0f7e-44df-8f50-5ff29356f608')\"\n",
              "              title=\"Convert this dataframe to an interactive table.\"\n",
              "              style=\"display:none;\">\n",
              "        \n",
              "  <svg xmlns=\"http://www.w3.org/2000/svg\" height=\"24px\"viewBox=\"0 0 24 24\"\n",
              "       width=\"24px\">\n",
              "    <path d=\"M0 0h24v24H0V0z\" fill=\"none\"/>\n",
              "    <path d=\"M18.56 5.44l.94 2.06.94-2.06 2.06-.94-2.06-.94-.94-2.06-.94 2.06-2.06.94zm-11 1L8.5 8.5l.94-2.06 2.06-.94-2.06-.94L8.5 2.5l-.94 2.06-2.06.94zm10 10l.94 2.06.94-2.06 2.06-.94-2.06-.94-.94-2.06-.94 2.06-2.06.94z\"/><path d=\"M17.41 7.96l-1.37-1.37c-.4-.4-.92-.59-1.43-.59-.52 0-1.04.2-1.43.59L10.3 9.45l-7.72 7.72c-.78.78-.78 2.05 0 2.83L4 21.41c.39.39.9.59 1.41.59.51 0 1.02-.2 1.41-.59l7.78-7.78 2.81-2.81c.8-.78.8-2.07 0-2.86zM5.41 20L4 18.59l7.72-7.72 1.47 1.35L5.41 20z\"/>\n",
              "  </svg>\n",
              "      </button>\n",
              "      \n",
              "  <style>\n",
              "    .colab-df-container {\n",
              "      display:flex;\n",
              "      flex-wrap:wrap;\n",
              "      gap: 12px;\n",
              "    }\n",
              "\n",
              "    .colab-df-convert {\n",
              "      background-color: #E8F0FE;\n",
              "      border: none;\n",
              "      border-radius: 50%;\n",
              "      cursor: pointer;\n",
              "      display: none;\n",
              "      fill: #1967D2;\n",
              "      height: 32px;\n",
              "      padding: 0 0 0 0;\n",
              "      width: 32px;\n",
              "    }\n",
              "\n",
              "    .colab-df-convert:hover {\n",
              "      background-color: #E2EBFA;\n",
              "      box-shadow: 0px 1px 2px rgba(60, 64, 67, 0.3), 0px 1px 3px 1px rgba(60, 64, 67, 0.15);\n",
              "      fill: #174EA6;\n",
              "    }\n",
              "\n",
              "    [theme=dark] .colab-df-convert {\n",
              "      background-color: #3B4455;\n",
              "      fill: #D2E3FC;\n",
              "    }\n",
              "\n",
              "    [theme=dark] .colab-df-convert:hover {\n",
              "      background-color: #434B5C;\n",
              "      box-shadow: 0px 1px 3px 1px rgba(0, 0, 0, 0.15);\n",
              "      filter: drop-shadow(0px 1px 2px rgba(0, 0, 0, 0.3));\n",
              "      fill: #FFFFFF;\n",
              "    }\n",
              "  </style>\n",
              "\n",
              "      <script>\n",
              "        const buttonEl =\n",
              "          document.querySelector('#df-75f421c8-0f7e-44df-8f50-5ff29356f608 button.colab-df-convert');\n",
              "        buttonEl.style.display =\n",
              "          google.colab.kernel.accessAllowed ? 'block' : 'none';\n",
              "\n",
              "        async function convertToInteractive(key) {\n",
              "          const element = document.querySelector('#df-75f421c8-0f7e-44df-8f50-5ff29356f608');\n",
              "          const dataTable =\n",
              "            await google.colab.kernel.invokeFunction('convertToInteractive',\n",
              "                                                     [key], {});\n",
              "          if (!dataTable) return;\n",
              "\n",
              "          const docLinkHtml = 'Like what you see? Visit the ' +\n",
              "            '<a target=\"_blank\" href=https://colab.research.google.com/notebooks/data_table.ipynb>data table notebook</a>'\n",
              "            + ' to learn more about interactive tables.';\n",
              "          element.innerHTML = '';\n",
              "          dataTable['output_type'] = 'display_data';\n",
              "          await google.colab.output.renderOutput(dataTable, element);\n",
              "          const docLink = document.createElement('div');\n",
              "          docLink.innerHTML = docLinkHtml;\n",
              "          element.appendChild(docLink);\n",
              "        }\n",
              "      </script>\n",
              "    </div>\n",
              "  </div>\n",
              "  "
            ]
          },
          "metadata": {},
          "execution_count": 18
        }
      ]
    },
    {
      "cell_type": "markdown",
      "source": [
        "#### Identification of outlier attribute GRS"
      ],
      "metadata": {
        "id": "d0jdGUkxIcHh"
      }
    },
    {
      "cell_type": "code",
      "source": [
        "sns.boxplot(x='GRS', data=df)"
      ],
      "metadata": {
        "execution": {
          "iopub.status.busy": "2023-04-14T10:49:42.626130Z",
          "iopub.execute_input": "2023-04-14T10:49:42.627013Z",
          "iopub.status.idle": "2023-04-14T10:49:42.833043Z",
          "shell.execute_reply.started": "2023-04-14T10:49:42.626932Z",
          "shell.execute_reply": "2023-04-14T10:49:42.830493Z"
        },
        "trusted": true,
        "colab": {
          "base_uri": "https://localhost:8080/",
          "height": 466
        },
        "id": "hVUX7LEVIcHh",
        "outputId": "269304d1-375e-428f-d356-3eafcbd0a052"
      },
      "execution_count": null,
      "outputs": [
        {
          "output_type": "execute_result",
          "data": {
            "text/plain": [
              "<Axes: xlabel='GRS'>"
            ]
          },
          "metadata": {},
          "execution_count": 19
        },
        {
          "output_type": "display_data",
          "data": {
            "text/plain": [
              "<Figure size 640x480 with 1 Axes>"
            ],
            "image/png": "[encoded data removed]"
          },
          "metadata": {}
        }
      ]
    },
    {
      "cell_type": "markdown",
      "source": [
        "Look for Q1, Q3, upper limit, lower limit, difference between Q3 and Q1 to find which data on the GRS attribute are outliers"
      ],
      "metadata": {
        "id": "1n_AzyOYIcHi"
      }
    },
    {
      "cell_type": "code",
      "source": [
        "q15,q35=np.percentile(df['GRS'], [25,75])\n",
        "s5 = q35-q15\n",
        "ba5 = q35+(1.5*s5)\n",
        "bw5 = q15-(1.5*s5)\n",
        "print(q15)\n",
        "print(q35)\n",
        "print(s5)\n",
        "print(ba5)\n",
        "print(bw5)"
      ],
      "metadata": {
        "execution": {
          "iopub.status.busy": "2023-04-14T10:49:42.834712Z",
          "iopub.execute_input": "2023-04-14T10:49:42.835277Z",
          "iopub.status.idle": "2023-04-14T10:49:42.845774Z",
          "shell.execute_reply.started": "2023-04-14T10:49:42.835217Z",
          "shell.execute_reply": "2023-04-14T10:49:42.844233Z"
        },
        "trusted": true,
        "colab": {
          "base_uri": "https://localhost:8080/"
        },
        "id": "gU_IMIWYIcHu",
        "outputId": "b4c97c75-38e3-43d8-d9c9-1b51bac0a932"
      },
      "execution_count": null,
      "outputs": [
        {
          "output_type": "stream",
          "name": "stdout",
          "text": [
            "1.0\n",
            "2.0\n",
            "1.0\n",
            "3.5\n",
            "-0.5\n"
          ]
        }
      ]
    },
    {
      "cell_type": "code",
      "source": [
        "# shows outlier data on the GRS attribute\n",
        "dt5 = df[(df['GRS']<bw5) | (df['GRS']>ba5)]\n",
        "dt5.head()"
      ],
      "metadata": {
        "execution": {
          "iopub.status.busy": "2023-04-14T10:49:42.848243Z",
          "iopub.execute_input": "2023-04-14T10:49:42.849163Z",
          "iopub.status.idle": "2023-04-14T10:49:42.863989Z",
          "shell.execute_reply.started": "2023-04-14T10:49:42.849107Z",
          "shell.execute_reply": "2023-04-14T10:49:42.862691Z"
        },
        "trusted": true,
        "colab": {
          "base_uri": "https://localhost:8080/",
          "height": 206
        },
        "id": "rdqqAQ75IcHu",
        "outputId": "3171f07d-6706-4de0-e327-2d25be19667c"
      },
      "execution_count": null,
      "outputs": [
        {
          "output_type": "execute_result",
          "data": {
            "text/plain": [
              "     LB   LT  KT  KM  GRS        HARGA\n",
              "2   267  250   4   4    4   3000000000\n",
              "13  200  979   4   2    6  12500000000\n",
              "19  450  248   5   5    4   9700000000\n",
              "27  300  200   5   5    4   6500000000\n",
              "43  339  643   7   5    5  15000000000"
            ],
            "text/html": [
              "\n",
              "  <div id=\"df-3096c4e0-fdef-46a7-9ef5-b6f5dd26a5b6\">\n",
              "    <div class=\"colab-df-container\">\n",
              "      <div>\n",
              "<style scoped>\n",
              "    .dataframe tbody tr th:only-of-type {\n",
              "        vertical-align: middle;\n",
              "    }\n",
              "\n",
              "    .dataframe tbody tr th {\n",
              "        vertical-align: top;\n",
              "    }\n",
              "\n",
              "    .dataframe thead th {\n",
              "        text-align: right;\n",
              "    }\n",
              "</style>\n",
              "<table border=\"1\" class=\"dataframe\">\n",
              "  <thead>\n",
              "    <tr style=\"text-align: right;\">\n",
              "      <th></th>\n",
              "      <th>LB</th>\n",
              "      <th>LT</th>\n",
              "      <th>KT</th>\n",
              "      <th>KM</th>\n",
              "      <th>GRS</th>\n",
              "      <th>HARGA</th>\n",
              "    </tr>\n",
              "  </thead>\n",
              "  <tbody>\n",
              "    <tr>\n",
              "      <th>2</th>\n",
              "      <td>267</td>\n",
              "      <td>250</td>\n",
              "      <td>4</td>\n",
              "      <td>4</td>\n",
              "      <td>4</td>\n",
              "      <td>3000000000</td>\n",
              "    </tr>\n",
              "    <tr>\n",
              "      <th>13</th>\n",
              "      <td>200</td>\n",
              "      <td>979</td>\n",
              "      <td>4</td>\n",
              "      <td>2</td>\n",
              "      <td>6</td>\n",
              "      <td>12500000000</td>\n",
              "    </tr>\n",
              "    <tr>\n",
              "      <th>19</th>\n",
              "      <td>450</td>\n",
              "      <td>248</td>\n",
              "      <td>5</td>\n",
              "      <td>5</td>\n",
              "      <td>4</td>\n",
              "      <td>9700000000</td>\n",
              "    </tr>\n",
              "    <tr>\n",
              "      <th>27</th>\n",
              "      <td>300</td>\n",
              "      <td>200</td>\n",
              "      <td>5</td>\n",
              "      <td>5</td>\n",
              "      <td>4</td>\n",
              "      <td>6500000000</td>\n",
              "    </tr>\n",
              "    <tr>\n",
              "      <th>43</th>\n",
              "      <td>339</td>\n",
              "      <td>643</td>\n",
              "      <td>7</td>\n",
              "      <td>5</td>\n",
              "      <td>5</td>\n",
              "      <td>15000000000</td>\n",
              "    </tr>\n",
              "  </tbody>\n",
              "</table>\n",
              "</div>\n",
              "      <button class=\"colab-df-convert\" onclick=\"convertToInteractive('df-3096c4e0-fdef-46a7-9ef5-b6f5dd26a5b6')\"\n",
              "              title=\"Convert this dataframe to an interactive table.\"\n",
              "              style=\"display:none;\">\n",
              "        \n",
              "  <svg xmlns=\"http://www.w3.org/2000/svg\" height=\"24px\"viewBox=\"0 0 24 24\"\n",
              "       width=\"24px\">\n",
              "    <path d=\"M0 0h24v24H0V0z\" fill=\"none\"/>\n",
              "    <path d=\"M18.56 5.44l.94 2.06.94-2.06 2.06-.94-2.06-.94-.94-2.06-.94 2.06-2.06.94zm-11 1L8.5 8.5l.94-2.06 2.06-.94-2.06-.94L8.5 2.5l-.94 2.06-2.06.94zm10 10l.94 2.06.94-2.06 2.06-.94-2.06-.94-.94-2.06-.94 2.06-2.06.94z\"/><path d=\"M17.41 7.96l-1.37-1.37c-.4-.4-.92-.59-1.43-.59-.52 0-1.04.2-1.43.59L10.3 9.45l-7.72 7.72c-.78.78-.78 2.05 0 2.83L4 21.41c.39.39.9.59 1.41.59.51 0 1.02-.2 1.41-.59l7.78-7.78 2.81-2.81c.8-.78.8-2.07 0-2.86zM5.41 20L4 18.59l7.72-7.72 1.47 1.35L5.41 20z\"/>\n",
              "  </svg>\n",
              "      </button>\n",
              "      \n",
              "  <style>\n",
              "    .colab-df-container {\n",
              "      display:flex;\n",
              "      flex-wrap:wrap;\n",
              "      gap: 12px;\n",
              "    }\n",
              "\n",
              "    .colab-df-convert {\n",
              "      background-color: #E8F0FE;\n",
              "      border: none;\n",
              "      border-radius: 50%;\n",
              "      cursor: pointer;\n",
              "      display: none;\n",
              "      fill: #1967D2;\n",
              "      height: 32px;\n",
              "      padding: 0 0 0 0;\n",
              "      width: 32px;\n",
              "    }\n",
              "\n",
              "    .colab-df-convert:hover {\n",
              "      background-color: #E2EBFA;\n",
              "      box-shadow: 0px 1px 2px rgba(60, 64, 67, 0.3), 0px 1px 3px 1px rgba(60, 64, 67, 0.15);\n",
              "      fill: #174EA6;\n",
              "    }\n",
              "\n",
              "    [theme=dark] .colab-df-convert {\n",
              "      background-color: #3B4455;\n",
              "      fill: #D2E3FC;\n",
              "    }\n",
              "\n",
              "    [theme=dark] .colab-df-convert:hover {\n",
              "      background-color: #434B5C;\n",
              "      box-shadow: 0px 1px 3px 1px rgba(0, 0, 0, 0.15);\n",
              "      filter: drop-shadow(0px 1px 2px rgba(0, 0, 0, 0.3));\n",
              "      fill: #FFFFFF;\n",
              "    }\n",
              "  </style>\n",
              "\n",
              "      <script>\n",
              "        const buttonEl =\n",
              "          document.querySelector('#df-3096c4e0-fdef-46a7-9ef5-b6f5dd26a5b6 button.colab-df-convert');\n",
              "        buttonEl.style.display =\n",
              "          google.colab.kernel.accessAllowed ? 'block' : 'none';\n",
              "\n",
              "        async function convertToInteractive(key) {\n",
              "          const element = document.querySelector('#df-3096c4e0-fdef-46a7-9ef5-b6f5dd26a5b6');\n",
              "          const dataTable =\n",
              "            await google.colab.kernel.invokeFunction('convertToInteractive',\n",
              "                                                     [key], {});\n",
              "          if (!dataTable) return;\n",
              "\n",
              "          const docLinkHtml = 'Like what you see? Visit the ' +\n",
              "            '<a target=\"_blank\" href=https://colab.research.google.com/notebooks/data_table.ipynb>data table notebook</a>'\n",
              "            + ' to learn more about interactive tables.';\n",
              "          element.innerHTML = '';\n",
              "          dataTable['output_type'] = 'display_data';\n",
              "          await google.colab.output.renderOutput(dataTable, element);\n",
              "          const docLink = document.createElement('div');\n",
              "          docLink.innerHTML = docLinkHtml;\n",
              "          element.appendChild(docLink);\n",
              "        }\n",
              "      </script>\n",
              "    </div>\n",
              "  </div>\n",
              "  "
            ]
          },
          "metadata": {},
          "execution_count": 21
        }
      ]
    },
    {
      "cell_type": "markdown",
      "source": [
        "#### Identification of outlier attribute Harga"
      ],
      "metadata": {
        "id": "lcZ15wJAIcHv"
      }
    },
    {
      "cell_type": "code",
      "source": [
        "sns.boxplot(x='HARGA', data=df);"
      ],
      "metadata": {
        "execution": {
          "iopub.status.busy": "2023-04-14T10:49:42.865391Z",
          "iopub.execute_input": "2023-04-14T10:49:42.865950Z",
          "iopub.status.idle": "2023-04-14T10:49:43.002259Z",
          "shell.execute_reply.started": "2023-04-14T10:49:42.865914Z",
          "shell.execute_reply": "2023-04-14T10:49:43.000521Z"
        },
        "trusted": true,
        "colab": {
          "base_uri": "https://localhost:8080/",
          "height": 449
        },
        "id": "4LQt9yGeIcHv",
        "outputId": "094c11ad-d3f0-41c1-a8cf-d37b5c542b0d"
      },
      "execution_count": null,
      "outputs": [
        {
          "output_type": "display_data",
          "data": {
            "text/plain": [
              "<Figure size 640x480 with 1 Axes>"
            ],
            "image/png": "[encoded data removed]"
          },
          "metadata": {}
        }
      ]
    },
    {
      "cell_type": "markdown",
      "source": [
        "Look for Q1, Q3, upper limit, lower limit, difference between Q3 and Q1 to find which data on the Harga attribute are outliers"
      ],
      "metadata": {
        "id": "JEt4PLg4IcHv"
      }
    },
    {
      "cell_type": "code",
      "source": [
        "q16,q36=np.percentile(df['HARGA'], [25,75])\n",
        "s6 = q36-q16\n",
        "ba6 = q36+(1.5*s6)\n",
        "bw6 = q16-(1.5*s6)\n",
        "print(q16)\n",
        "print(q36)\n",
        "print(s6)\n",
        "print(ba6)\n",
        "print(bw6)"
      ],
      "metadata": {
        "execution": {
          "iopub.status.busy": "2023-04-14T10:49:43.003977Z",
          "iopub.execute_input": "2023-04-14T10:49:43.005432Z",
          "iopub.status.idle": "2023-04-14T10:49:43.016283Z",
          "shell.execute_reply.started": "2023-04-14T10:49:43.005376Z",
          "shell.execute_reply": "2023-04-14T10:49:43.014981Z"
        },
        "trusted": true,
        "colab": {
          "base_uri": "https://localhost:8080/"
        },
        "id": "sbLl4KOdIcHv",
        "outputId": "1947ddeb-914d-4500-f31c-9d87d99d7af0"
      },
      "execution_count": null,
      "outputs": [
        {
          "output_type": "stream",
          "name": "stdout",
          "text": [
            "3262500000.0\n",
            "9000000000.0\n",
            "5737500000.0\n",
            "17606250000.0\n",
            "-5343750000.0\n"
          ]
        }
      ]
    },
    {
      "cell_type": "code",
      "source": [
        "# shows outlier data on the Harga attribute\n",
        "dt6 = df[(df['HARGA']<bw6) | (df['HARGA']>ba6)]\n",
        "dt6.head()"
      ],
      "metadata": {
        "execution": {
          "iopub.status.busy": "2023-04-14T10:49:43.019034Z",
          "iopub.execute_input": "2023-04-14T10:49:43.020589Z",
          "iopub.status.idle": "2023-04-14T10:49:43.035154Z",
          "shell.execute_reply.started": "2023-04-14T10:49:43.020528Z",
          "shell.execute_reply": "2023-04-14T10:49:43.033830Z"
        },
        "trusted": true,
        "colab": {
          "base_uri": "https://localhost:8080/",
          "height": 206
        },
        "id": "na885BkmIcHw",
        "outputId": "6c8b5ee4-b23e-44da-e0b5-d9b086a4f88d"
      },
      "execution_count": null,
      "outputs": [
        {
          "output_type": "execute_result",
          "data": {
            "text/plain": [
              "     LB   LT  KT  KM  GRS        HARGA\n",
              "18  200  251   5   3    3  18000000000\n",
              "31  900  600   7   7    1  42000000000\n",
              "50  850  600   7   7    0  41000000000\n",
              "54  750  610   8   6    4  23000000000\n",
              "61  300  410   5   3    0  18000000000"
            ],
            "text/html": [
              "\n",
              "  <div id=\"df-c7b4fff7-d39e-467e-a419-413ed34df8c4\">\n",
              "    <div class=\"colab-df-container\">\n",
              "      <div>\n",
              "<style scoped>\n",
              "    .dataframe tbody tr th:only-of-type {\n",
              "        vertical-align: middle;\n",
              "    }\n",
              "\n",
              "    .dataframe tbody tr th {\n",
              "        vertical-align: top;\n",
              "    }\n",
              "\n",
              "    .dataframe thead th {\n",
              "        text-align: right;\n",
              "    }\n",
              "</style>\n",
              "<table border=\"1\" class=\"dataframe\">\n",
              "  <thead>\n",
              "    <tr style=\"text-align: right;\">\n",
              "      <th></th>\n",
              "      <th>LB</th>\n",
              "      <th>LT</th>\n",
              "      <th>KT</th>\n",
              "      <th>KM</th>\n",
              "      <th>GRS</th>\n",
              "      <th>HARGA</th>\n",
              "    </tr>\n",
              "  </thead>\n",
              "  <tbody>\n",
              "    <tr>\n",
              "      <th>18</th>\n",
              "      <td>200</td>\n",
              "      <td>251</td>\n",
              "      <td>5</td>\n",
              "      <td>3</td>\n",
              "      <td>3</td>\n",
              "      <td>18000000000</td>\n",
              "    </tr>\n",
              "    <tr>\n",
              "      <th>31</th>\n",
              "      <td>900</td>\n",
              "      <td>600</td>\n",
              "      <td>7</td>\n",
              "      <td>7</td>\n",
              "      <td>1</td>\n",
              "      <td>42000000000</td>\n",
              "    </tr>\n",
              "    <tr>\n",
              "      <th>50</th>\n",
              "      <td>850</td>\n",
              "      <td>600</td>\n",
              "      <td>7</td>\n",
              "      <td>7</td>\n",
              "      <td>0</td>\n",
              "      <td>41000000000</td>\n",
              "    </tr>\n",
              "    <tr>\n",
              "      <th>54</th>\n",
              "      <td>750</td>\n",
              "      <td>610</td>\n",
              "      <td>8</td>\n",
              "      <td>6</td>\n",
              "      <td>4</td>\n",
              "      <td>23000000000</td>\n",
              "    </tr>\n",
              "    <tr>\n",
              "      <th>61</th>\n",
              "      <td>300</td>\n",
              "      <td>410</td>\n",
              "      <td>5</td>\n",
              "      <td>3</td>\n",
              "      <td>0</td>\n",
              "      <td>18000000000</td>\n",
              "    </tr>\n",
              "  </tbody>\n",
              "</table>\n",
              "</div>\n",
              "      <button class=\"colab-df-convert\" onclick=\"convertToInteractive('df-c7b4fff7-d39e-467e-a419-413ed34df8c4')\"\n",
              "              title=\"Convert this dataframe to an interactive table.\"\n",
              "              style=\"display:none;\">\n",
              "        \n",
              "  <svg xmlns=\"http://www.w3.org/2000/svg\" height=\"24px\"viewBox=\"0 0 24 24\"\n",
              "       width=\"24px\">\n",
              "    <path d=\"M0 0h24v24H0V0z\" fill=\"none\"/>\n",
              "    <path d=\"M18.56 5.44l.94 2.06.94-2.06 2.06-.94-2.06-.94-.94-2.06-.94 2.06-2.06.94zm-11 1L8.5 8.5l.94-2.06 2.06-.94-2.06-.94L8.5 2.5l-.94 2.06-2.06.94zm10 10l.94 2.06.94-2.06 2.06-.94-2.06-.94-.94-2.06-.94 2.06-2.06.94z\"/><path d=\"M17.41 7.96l-1.37-1.37c-.4-.4-.92-.59-1.43-.59-.52 0-1.04.2-1.43.59L10.3 9.45l-7.72 7.72c-.78.78-.78 2.05 0 2.83L4 21.41c.39.39.9.59 1.41.59.51 0 1.02-.2 1.41-.59l7.78-7.78 2.81-2.81c.8-.78.8-2.07 0-2.86zM5.41 20L4 18.59l7.72-7.72 1.47 1.35L5.41 20z\"/>\n",
              "  </svg>\n",
              "      </button>\n",
              "      \n",
              "  <style>\n",
              "    .colab-df-container {\n",
              "      display:flex;\n",
              "      flex-wrap:wrap;\n",
              "      gap: 12px;\n",
              "    }\n",
              "\n",
              "    .colab-df-convert {\n",
              "      background-color: #E8F0FE;\n",
              "      border: none;\n",
              "      border-radius: 50%;\n",
              "      cursor: pointer;\n",
              "      display: none;\n",
              "      fill: #1967D2;\n",
              "      height: 32px;\n",
              "      padding: 0 0 0 0;\n",
              "      width: 32px;\n",
              "    }\n",
              "\n",
              "    .colab-df-convert:hover {\n",
              "      background-color: #E2EBFA;\n",
              "      box-shadow: 0px 1px 2px rgba(60, 64, 67, 0.3), 0px 1px 3px 1px rgba(60, 64, 67, 0.15);\n",
              "      fill: #174EA6;\n",
              "    }\n",
              "\n",
              "    [theme=dark] .colab-df-convert {\n",
              "      background-color: #3B4455;\n",
              "      fill: #D2E3FC;\n",
              "    }\n",
              "\n",
              "    [theme=dark] .colab-df-convert:hover {\n",
              "      background-color: #434B5C;\n",
              "      box-shadow: 0px 1px 3px 1px rgba(0, 0, 0, 0.15);\n",
              "      filter: drop-shadow(0px 1px 2px rgba(0, 0, 0, 0.3));\n",
              "      fill: #FFFFFF;\n",
              "    }\n",
              "  </style>\n",
              "\n",
              "      <script>\n",
              "        const buttonEl =\n",
              "          document.querySelector('#df-c7b4fff7-d39e-467e-a419-413ed34df8c4 button.colab-df-convert');\n",
              "        buttonEl.style.display =\n",
              "          google.colab.kernel.accessAllowed ? 'block' : 'none';\n",
              "\n",
              "        async function convertToInteractive(key) {\n",
              "          const element = document.querySelector('#df-c7b4fff7-d39e-467e-a419-413ed34df8c4');\n",
              "          const dataTable =\n",
              "            await google.colab.kernel.invokeFunction('convertToInteractive',\n",
              "                                                     [key], {});\n",
              "          if (!dataTable) return;\n",
              "\n",
              "          const docLinkHtml = 'Like what you see? Visit the ' +\n",
              "            '<a target=\"_blank\" href=https://colab.research.google.com/notebooks/data_table.ipynb>data table notebook</a>'\n",
              "            + ' to learn more about interactive tables.';\n",
              "          element.innerHTML = '';\n",
              "          dataTable['output_type'] = 'display_data';\n",
              "          await google.colab.output.renderOutput(dataTable, element);\n",
              "          const docLink = document.createElement('div');\n",
              "          docLink.innerHTML = docLinkHtml;\n",
              "          element.appendChild(docLink);\n",
              "        }\n",
              "      </script>\n",
              "    </div>\n",
              "  </div>\n",
              "  "
            ]
          },
          "metadata": {},
          "execution_count": 24
        }
      ]
    },
    {
      "cell_type": "markdown",
      "source": [
        "### Data distribution"
      ],
      "metadata": {
        "id": "malQkq8UIcHw"
      }
    },
    {
      "cell_type": "markdown",
      "source": [
        "#### Distribution of data from attribute LB"
      ],
      "metadata": {
        "id": "io37J-V2IcHw"
      }
    },
    {
      "cell_type": "code",
      "source": [
        "import matplotlib.pyplot as plt\n",
        "\n",
        "f = plt.figure(figsize=(12,4))\n",
        "\n",
        "f.add_subplot(1,2,1)\n",
        "df['LB'].plot(kind='kde')\n",
        "\n",
        "f.add_subplot(1,2,2 )\n",
        "plt.boxplot(df['LB'])\n",
        "\n",
        "plt.show()"
      ],
      "metadata": {
        "execution": {
          "iopub.status.busy": "2023-04-14T10:49:43.037059Z",
          "iopub.execute_input": "2023-04-14T10:49:43.037869Z",
          "iopub.status.idle": "2023-04-14T10:49:43.413351Z",
          "shell.execute_reply.started": "2023-04-14T10:49:43.037799Z",
          "shell.execute_reply": "2023-04-14T10:49:43.412102Z"
        },
        "trusted": true,
        "colab": {
          "base_uri": "https://localhost:8080/",
          "height": 368
        },
        "id": "aknUvzvBIcHw",
        "outputId": "65de4fb8-5212-4efa-f4b0-0a8ecbb9d790"
      },
      "execution_count": null,
      "outputs": [
        {
          "output_type": "display_data",
          "data": {
            "text/plain": [
              "<Figure size 1200x400 with 2 Axes>"
            ],
            "image/png": "[encoded data removed]"
          },
          "metadata": {}
        }
      ]
    },
    {
      "cell_type": "markdown",
      "source": [
        "- Shows that most of the Building Area is at 200\n",
        "- Data has many outliers"
      ],
      "metadata": {
        "id": "NvOp4yGSIcHx"
      }
    },
    {
      "cell_type": "markdown",
      "source": [
        "#### Distribution of data from attribute LT"
      ],
      "metadata": {
        "id": "q-2qBVInIcHx"
      }
    },
    {
      "cell_type": "code",
      "source": [
        "f = plt.figure(figsize=(12,4))\n",
        "\n",
        "f.add_subplot(1,2,1)\n",
        "df['LT'].plot(kind='kde')\n",
        "\n",
        "f.add_subplot(1,2,2)\n",
        "plt.boxplot(df['LT'])\n",
        "\n",
        "plt.show()"
      ],
      "metadata": {
        "execution": {
          "iopub.status.busy": "2023-04-14T10:49:43.415204Z",
          "iopub.execute_input": "2023-04-14T10:49:43.415706Z",
          "iopub.status.idle": "2023-04-14T10:49:43.742323Z",
          "shell.execute_reply.started": "2023-04-14T10:49:43.415645Z",
          "shell.execute_reply": "2023-04-14T10:49:43.741063Z"
        },
        "trusted": true,
        "colab": {
          "base_uri": "https://localhost:8080/",
          "height": 368
        },
        "id": "0tOL-mIxIcHx",
        "outputId": "e8803368-f7ff-4189-e88d-c974861159a9"
      },
      "execution_count": null,
      "outputs": [
        {
          "output_type": "display_data",
          "data": {
            "text/plain": [
              "<Figure size 1200x400 with 2 Axes>"
            ],
            "image/png": "[encoded data removed]"
          },
          "metadata": {}
        }
      ]
    },
    {
      "cell_type": "markdown",
      "source": [
        "- shows that most of the Land Area is in the number 200\n",
        "- Data has many outliers"
      ],
      "metadata": {
        "id": "kA5aTXe8IcHy"
      }
    },
    {
      "cell_type": "markdown",
      "source": [
        "#### Distribution of data from attribute KT"
      ],
      "metadata": {
        "id": "9NcxEgvzIcHy"
      }
    },
    {
      "cell_type": "code",
      "source": [
        "f = plt.figure(figsize=(12,4))\n",
        "\n",
        "f.add_subplot(1,2,1)\n",
        "sns.countplot(x=df['KT'])\n",
        "\n",
        "f.add_subplot(1,2,2)\n",
        "plt.boxplot(df['KT'])\n",
        "\n",
        "plt.show()"
      ],
      "metadata": {
        "execution": {
          "iopub.status.busy": "2023-04-14T10:49:43.744238Z",
          "iopub.execute_input": "2023-04-14T10:49:43.744624Z",
          "iopub.status.idle": "2023-04-14T10:49:44.231389Z",
          "shell.execute_reply.started": "2023-04-14T10:49:43.744586Z",
          "shell.execute_reply": "2023-04-14T10:49:44.230112Z"
        },
        "trusted": true,
        "colab": {
          "base_uri": "https://localhost:8080/",
          "height": 388
        },
        "id": "UQlwQCtDIcHy",
        "outputId": "08148742-b093-4331-c9fa-91eccca519bd"
      },
      "execution_count": null,
      "outputs": [
        {
          "output_type": "display_data",
          "data": {
            "text/plain": [
              "<Figure size 1200x400 with 2 Axes>"
            ],
            "image/png": "[encoded data removed]"
          },
          "metadata": {}
        }
      ]
    },
    {
      "cell_type": "markdown",
      "source": [
        "- Shows that most of the Number of Bedrooms is 4 and 5\n",
        "- Data has few outliers"
      ],
      "metadata": {
        "id": "FLhBwd9CIcHz"
      }
    },
    {
      "cell_type": "markdown",
      "source": [
        "#### Distribution of data from attribute KM"
      ],
      "metadata": {
        "id": "9jcGN_5LIcHz"
      }
    },
    {
      "cell_type": "code",
      "source": [
        "f = plt.figure(figsize=(12,4))\n",
        "\n",
        "f.add_subplot(1,2,1)\n",
        "sns.countplot(x=df['KM'])\n",
        "\n",
        "f.add_subplot(1,2,2)\n",
        "plt.boxplot(df['KM'])\n",
        "\n",
        "plt.show()"
      ],
      "metadata": {
        "execution": {
          "iopub.status.busy": "2023-04-14T10:49:44.233283Z",
          "iopub.execute_input": "2023-04-14T10:49:44.234081Z",
          "iopub.status.idle": "2023-04-14T10:49:44.573863Z",
          "shell.execute_reply.started": "2023-04-14T10:49:44.234032Z",
          "shell.execute_reply": "2023-04-14T10:49:44.572480Z"
        },
        "trusted": true,
        "colab": {
          "base_uri": "https://localhost:8080/",
          "height": 388
        },
        "id": "0WAMUd-8IcHz",
        "outputId": "df11d4cf-a190-4db3-af52-2cb07eae56c4"
      },
      "execution_count": null,
      "outputs": [
        {
          "output_type": "display_data",
          "data": {
            "text/plain": [
              "<Figure size 1200x400 with 2 Axes>"
            ],
            "image/png": "[encoded data removed]"
          },
          "metadata": {}
        }
      ]
    },
    {
      "cell_type": "markdown",
      "source": [
        "- Shows that most of the Number of Bathrooms is 4 and 5\n",
        "- Data has few outliers"
      ],
      "metadata": {
        "id": "TN-ffTxDIcH0"
      }
    },
    {
      "cell_type": "markdown",
      "source": [
        "#### Distribution of data from attribute GRS"
      ],
      "metadata": {
        "id": "MBUhHydEIcH1"
      }
    },
    {
      "cell_type": "code",
      "source": [
        "f = plt.figure(figsize=(12,4))\n",
        "\n",
        "f.add_subplot(1,2,1)\n",
        "sns.countplot(x=df['GRS'])\n",
        "\n",
        "f.add_subplot(1,2,2)\n",
        "plt.boxplot(df['GRS'])\n",
        "\n",
        "plt.show();"
      ],
      "metadata": {
        "execution": {
          "iopub.status.busy": "2023-04-14T10:49:44.581229Z",
          "iopub.execute_input": "2023-04-14T10:49:44.581991Z",
          "iopub.status.idle": "2023-04-14T10:49:44.923248Z",
          "shell.execute_reply.started": "2023-04-14T10:49:44.581929Z",
          "shell.execute_reply": "2023-04-14T10:49:44.921919Z"
        },
        "trusted": true,
        "colab": {
          "base_uri": "https://localhost:8080/",
          "height": 388
        },
        "id": "t9CxxBo0IcH1",
        "outputId": "15cbfa4f-8141-4971-ca3f-6475b3489e40"
      },
      "execution_count": null,
      "outputs": [
        {
          "output_type": "display_data",
          "data": {
            "text/plain": [
              "<Figure size 1200x400 with 2 Axes>"
            ],
            "image/png": "[encoded data removed]"
          },
          "metadata": {}
        }
      ]
    },
    {
      "cell_type": "markdown",
      "source": [
        "- Shows that most of the Total Garage Capacity is 1 and 2 cars\n",
        "- Data has few outliers"
      ],
      "metadata": {
        "id": "XszLUqYzIcH2"
      }
    },
    {
      "cell_type": "markdown",
      "source": [
        "#### Distribution of data from attribute Harga"
      ],
      "metadata": {
        "id": "glu2HKw9IcH2"
      }
    },
    {
      "cell_type": "code",
      "source": [
        "f = plt.figure(figsize=(12,4))\n",
        "\n",
        "f.add_subplot(1,2,1)\n",
        "df['HARGA'].plot(kind='kde')\n",
        "\n",
        "f.add_subplot(1,2,2)\n",
        "plt.boxplot(df['HARGA'])\n",
        "\n",
        "plt.show()"
      ],
      "metadata": {
        "execution": {
          "iopub.status.busy": "2023-04-14T10:49:44.924806Z",
          "iopub.execute_input": "2023-04-14T10:49:44.925168Z",
          "iopub.status.idle": "2023-04-14T10:49:45.264245Z",
          "shell.execute_reply.started": "2023-04-14T10:49:44.925133Z",
          "shell.execute_reply": "2023-04-14T10:49:45.262882Z"
        },
        "trusted": true,
        "colab": {
          "base_uri": "https://localhost:8080/",
          "height": 402
        },
        "id": "nkYdfivDIcH2",
        "outputId": "dad9017d-ac66-448b-811f-35d218fb3478"
      },
      "execution_count": null,
      "outputs": [
        {
          "output_type": "display_data",
          "data": {
            "text/plain": [
              "<Figure size 1200x400 with 2 Axes>"
            ],
            "image/png": "[encoded data removed]"
          },
          "metadata": {}
        }
      ]
    },
    {
      "cell_type": "markdown",
      "source": [
        "### Correlation between independent and dependent variable"
      ],
      "metadata": {
        "id": "u9tgJ5-3IcH3"
      }
    },
    {
      "cell_type": "code",
      "source": [
        "# Bivariate analysis between independent variables and dependent variables\n",
        "plt.figure(figsize=(10,8))\n",
        "sns.pairplot(data=df, x_vars=['LT', 'LB', 'KM', 'KT', 'GRS'], y_vars=['HARGA'], size=5, aspect=0.75)\n",
        "plt.show()"
      ],
      "metadata": {
        "execution": {
          "iopub.status.busy": "2023-04-14T10:49:45.265684Z",
          "iopub.execute_input": "2023-04-14T10:49:45.266217Z",
          "iopub.status.idle": "2023-04-14T10:49:46.282021Z",
          "shell.execute_reply.started": "2023-04-14T10:49:45.266178Z",
          "shell.execute_reply": "2023-04-14T10:49:46.280682Z"
        },
        "trusted": true,
        "colab": {
          "base_uri": "https://localhost:8080/",
          "height": 415
        },
        "id": "4MVXwWDsIcH4",
        "outputId": "706b24a4-1212-4033-eb77-22e1ea0fcc3e"
      },
      "execution_count": null,
      "outputs": [
        {
          "output_type": "stream",
          "name": "stderr",
          "text": [
            "/usr/local/lib/python3.10/dist-packages/seaborn/axisgrid.py:2095: UserWarning: The `size` parameter has been renamed to `height`; please update your code.\n",
            "  warnings.warn(msg, UserWarning)\n"
          ]
        },
        {
          "output_type": "display_data",
          "data": {
            "text/plain": [
              "<Figure size 1000x800 with 0 Axes>"
            ]
          },
          "metadata": {}
        },
        {
          "output_type": "display_data",
          "data": {
            "text/plain": [
              "<Figure size 1875x500 with 5 Axes>"
            ],
            "image/png": "[encoded data removed]"
          },
          "metadata": {}
        }
      ]
    },
    {
      "cell_type": "code",
      "source": [
        "# correlation of independent variable and dependent variable\n",
        "df.corr().style.background_gradient().set_precision(1)"
      ],
      "metadata": {
        "execution": {
          "iopub.status.busy": "2023-04-14T10:49:46.283992Z",
          "iopub.execute_input": "2023-04-14T10:49:46.284378Z",
          "iopub.status.idle": "2023-04-14T10:49:46.383972Z",
          "shell.execute_reply.started": "2023-04-14T10:49:46.284338Z",
          "shell.execute_reply": "2023-04-14T10:49:46.382579Z"
        },
        "trusted": true,
        "colab": {
          "base_uri": "https://localhost:8080/",
          "height": 272
        },
        "id": "StxSyWhKIcH4",
        "outputId": "ce1d59ea-4777-4b72-d00c-f409bb225dbb"
      },
      "execution_count": null,
      "outputs": [
        {
          "output_type": "stream",
          "name": "stderr",
          "text": [
            "<ipython-input-32-a2c2dcf6afe5>:2: FutureWarning: this method is deprecated in favour of `Styler.format(precision=..)`\n",
            "  df.corr().style.background_gradient().set_precision(1)\n"
          ]
        },
        {
          "output_type": "execute_result",
          "data": {
            "text/plain": [
              "<pandas.io.formats.style.Styler at 0x7f933d877070>"
            ],
            "text/html": [
              "<style type=\"text/css\">\n",
              "#T_f5bfc_row0_col0, #T_f5bfc_row1_col1, #T_f5bfc_row2_col2, #T_f5bfc_row3_col3, #T_f5bfc_row4_col4, #T_f5bfc_row5_col5 {\n",
              "  background-color: #023858;\n",
              "  color: #f1f1f1;\n",
              "}\n",
              "#T_f5bfc_row0_col1 {\n",
              "  background-color: #4e9ac6;\n",
              "  color: #f1f1f1;\n",
              "}\n",
              "#T_f5bfc_row0_col2 {\n",
              "  background-color: #d5d5e8;\n",
              "  color: #000000;\n",
              "}\n",
              "#T_f5bfc_row0_col3, #T_f5bfc_row1_col4, #T_f5bfc_row5_col4 {\n",
              "  background-color: #c5cce3;\n",
              "  color: #000000;\n",
              "}\n",
              "#T_f5bfc_row0_col4 {\n",
              "  background-color: #c1cae2;\n",
              "  color: #000000;\n",
              "}\n",
              "#T_f5bfc_row0_col5 {\n",
              "  background-color: #358fc0;\n",
              "  color: #f1f1f1;\n",
              "}\n",
              "#T_f5bfc_row1_col0 {\n",
              "  background-color: #63a2cb;\n",
              "  color: #f1f1f1;\n",
              "}\n",
              "#T_f5bfc_row1_col2 {\n",
              "  background-color: #dbdaeb;\n",
              "  color: #000000;\n",
              "}\n",
              "#T_f5bfc_row1_col3 {\n",
              "  background-color: #f5eff6;\n",
              "  color: #000000;\n",
              "}\n",
              "#T_f5bfc_row1_col5 {\n",
              "  background-color: #1278b4;\n",
              "  color: #f1f1f1;\n",
              "}\n",
              "#T_f5bfc_row2_col0, #T_f5bfc_row2_col4, #T_f5bfc_row2_col5, #T_f5bfc_row3_col1, #T_f5bfc_row4_col2, #T_f5bfc_row4_col3 {\n",
              "  background-color: #fff7fb;\n",
              "  color: #000000;\n",
              "}\n",
              "#T_f5bfc_row2_col1, #T_f5bfc_row5_col2 {\n",
              "  background-color: #f6eff7;\n",
              "  color: #000000;\n",
              "}\n",
              "#T_f5bfc_row2_col3 {\n",
              "  background-color: #76aad0;\n",
              "  color: #f1f1f1;\n",
              "}\n",
              "#T_f5bfc_row3_col0 {\n",
              "  background-color: #e6e2ef;\n",
              "  color: #000000;\n",
              "}\n",
              "#T_f5bfc_row3_col2 {\n",
              "  background-color: #60a1ca;\n",
              "  color: #f1f1f1;\n",
              "}\n",
              "#T_f5bfc_row3_col4, #T_f5bfc_row5_col3 {\n",
              "  background-color: #f1ebf5;\n",
              "  color: #000000;\n",
              "}\n",
              "#T_f5bfc_row3_col5 {\n",
              "  background-color: #ede8f3;\n",
              "  color: #000000;\n",
              "}\n",
              "#T_f5bfc_row4_col0 {\n",
              "  background-color: #f2ecf5;\n",
              "  color: #000000;\n",
              "}\n",
              "#T_f5bfc_row4_col1 {\n",
              "  background-color: #e5e1ef;\n",
              "  color: #000000;\n",
              "}\n",
              "#T_f5bfc_row4_col5 {\n",
              "  background-color: #d2d3e7;\n",
              "  color: #000000;\n",
              "}\n",
              "#T_f5bfc_row5_col0 {\n",
              "  background-color: #5ea0ca;\n",
              "  color: #f1f1f1;\n",
              "}\n",
              "#T_f5bfc_row5_col1 {\n",
              "  background-color: #1c7fb8;\n",
              "  color: #f1f1f1;\n",
              "}\n",
              "</style>\n",
              "<table id=\"T_f5bfc\" class=\"dataframe\">\n",
              "  <thead>\n",
              "    <tr>\n",
              "      <th class=\"blank level0\" >&nbsp;</th>\n",
              "      <th id=\"T_f5bfc_level0_col0\" class=\"col_heading level0 col0\" >LB</th>\n",
              "      <th id=\"T_f5bfc_level0_col1\" class=\"col_heading level0 col1\" >LT</th>\n",
              "      <th id=\"T_f5bfc_level0_col2\" class=\"col_heading level0 col2\" >KT</th>\n",
              "      <th id=\"T_f5bfc_level0_col3\" class=\"col_heading level0 col3\" >KM</th>\n",
              "      <th id=\"T_f5bfc_level0_col4\" class=\"col_heading level0 col4\" >GRS</th>\n",
              "      <th id=\"T_f5bfc_level0_col5\" class=\"col_heading level0 col5\" >HARGA</th>\n",
              "    </tr>\n",
              "  </thead>\n",
              "  <tbody>\n",
              "    <tr>\n",
              "      <th id=\"T_f5bfc_level0_row0\" class=\"row_heading level0 row0\" >LB</th>\n",
              "      <td id=\"T_f5bfc_row0_col0\" class=\"data row0 col0\" >1.0</td>\n",
              "      <td id=\"T_f5bfc_row0_col1\" class=\"data row0 col1\" >0.7</td>\n",
              "      <td id=\"T_f5bfc_row0_col2\" class=\"data row0 col2\" >0.4</td>\n",
              "      <td id=\"T_f5bfc_row0_col3\" class=\"data row0 col3\" >0.5</td>\n",
              "      <td id=\"T_f5bfc_row0_col4\" class=\"data row0 col4\" >0.5</td>\n",
              "      <td id=\"T_f5bfc_row0_col5\" class=\"data row0 col5\" >0.7</td>\n",
              "    </tr>\n",
              "    <tr>\n",
              "      <th id=\"T_f5bfc_level0_row1\" class=\"row_heading level0 row1\" >LT</th>\n",
              "      <td id=\"T_f5bfc_row1_col0\" class=\"data row1 col0\" >0.7</td>\n",
              "      <td id=\"T_f5bfc_row1_col1\" class=\"data row1 col1\" >1.0</td>\n",
              "      <td id=\"T_f5bfc_row1_col2\" class=\"data row1 col2\" >0.4</td>\n",
              "      <td id=\"T_f5bfc_row1_col3\" class=\"data row1 col3\" >0.4</td>\n",
              "      <td id=\"T_f5bfc_row1_col4\" class=\"data row1 col4\" >0.5</td>\n",
              "      <td id=\"T_f5bfc_row1_col5\" class=\"data row1 col5\" >0.8</td>\n",
              "    </tr>\n",
              "    <tr>\n",
              "      <th id=\"T_f5bfc_level0_row2\" class=\"row_heading level0 row2\" >KT</th>\n",
              "      <td id=\"T_f5bfc_row2_col0\" class=\"data row2 col0\" >0.4</td>\n",
              "      <td id=\"T_f5bfc_row2_col1\" class=\"data row2 col1\" >0.4</td>\n",
              "      <td id=\"T_f5bfc_row2_col2\" class=\"data row2 col2\" >1.0</td>\n",
              "      <td id=\"T_f5bfc_row2_col3\" class=\"data row2 col3\" >0.7</td>\n",
              "      <td id=\"T_f5bfc_row2_col4\" class=\"data row2 col4\" >0.3</td>\n",
              "      <td id=\"T_f5bfc_row2_col5\" class=\"data row2 col5\" >0.3</td>\n",
              "    </tr>\n",
              "    <tr>\n",
              "      <th id=\"T_f5bfc_level0_row3\" class=\"row_heading level0 row3\" >KM</th>\n",
              "      <td id=\"T_f5bfc_row3_col0\" class=\"data row3 col0\" >0.5</td>\n",
              "      <td id=\"T_f5bfc_row3_col1\" class=\"data row3 col1\" >0.4</td>\n",
              "      <td id=\"T_f5bfc_row3_col2\" class=\"data row3 col2\" >0.7</td>\n",
              "      <td id=\"T_f5bfc_row3_col3\" class=\"data row3 col3\" >1.0</td>\n",
              "      <td id=\"T_f5bfc_row3_col4\" class=\"data row3 col4\" >0.3</td>\n",
              "      <td id=\"T_f5bfc_row3_col5\" class=\"data row3 col5\" >0.4</td>\n",
              "    </tr>\n",
              "    <tr>\n",
              "      <th id=\"T_f5bfc_level0_row4\" class=\"row_heading level0 row4\" >GRS</th>\n",
              "      <td id=\"T_f5bfc_row4_col0\" class=\"data row4 col0\" >0.5</td>\n",
              "      <td id=\"T_f5bfc_row4_col1\" class=\"data row4 col1\" >0.5</td>\n",
              "      <td id=\"T_f5bfc_row4_col2\" class=\"data row4 col2\" >0.3</td>\n",
              "      <td id=\"T_f5bfc_row4_col3\" class=\"data row4 col3\" >0.3</td>\n",
              "      <td id=\"T_f5bfc_row4_col4\" class=\"data row4 col4\" >1.0</td>\n",
              "      <td id=\"T_f5bfc_row4_col5\" class=\"data row4 col5\" >0.5</td>\n",
              "    </tr>\n",
              "    <tr>\n",
              "      <th id=\"T_f5bfc_level0_row5\" class=\"row_heading level0 row5\" >HARGA</th>\n",
              "      <td id=\"T_f5bfc_row5_col0\" class=\"data row5 col0\" >0.7</td>\n",
              "      <td id=\"T_f5bfc_row5_col1\" class=\"data row5 col1\" >0.8</td>\n",
              "      <td id=\"T_f5bfc_row5_col2\" class=\"data row5 col2\" >0.3</td>\n",
              "      <td id=\"T_f5bfc_row5_col3\" class=\"data row5 col3\" >0.4</td>\n",
              "      <td id=\"T_f5bfc_row5_col4\" class=\"data row5 col4\" >0.5</td>\n",
              "      <td id=\"T_f5bfc_row5_col5\" class=\"data row5 col5\" >1.0</td>\n",
              "    </tr>\n",
              "  </tbody>\n",
              "</table>\n"
            ]
          },
          "metadata": {},
          "execution_count": 32
        }
      ]
    },
    {
      "cell_type": "markdown",
      "source": [
        "## Classic assumption test"
      ],
      "metadata": {
        "id": "QbLOEKKjIcH4"
      }
    },
    {
      "cell_type": "code",
      "source": [
        "x = df.drop(columns=['HARGA'])\n",
        "y = df['HARGA']"
      ],
      "metadata": {
        "execution": {
          "iopub.status.busy": "2023-04-14T10:49:46.385958Z",
          "iopub.execute_input": "2023-04-14T10:49:46.386625Z",
          "iopub.status.idle": "2023-04-14T10:49:46.392776Z",
          "shell.execute_reply.started": "2023-04-14T10:49:46.386582Z",
          "shell.execute_reply": "2023-04-14T10:49:46.391478Z"
        },
        "trusted": true,
        "id": "zWxuM47cIcH5"
      },
      "execution_count": null,
      "outputs": []
    },
    {
      "cell_type": "code",
      "source": [
        "import statsmodels.api as sm\n",
        "\n",
        "model=sm.OLS(y,x).fit()\n",
        "predictions=model.predict(x)\n",
        "model.summary()"
      ],
      "metadata": {
        "execution": {
          "iopub.status.busy": "2023-04-14T10:49:46.394598Z",
          "iopub.execute_input": "2023-04-14T10:49:46.395055Z",
          "iopub.status.idle": "2023-04-14T10:49:48.038054Z",
          "shell.execute_reply.started": "2023-04-14T10:49:46.394993Z",
          "shell.execute_reply": "2023-04-14T10:49:48.036501Z"
        },
        "trusted": true,
        "colab": {
          "base_uri": "https://localhost:8080/",
          "height": 516
        },
        "id": "2syZhYQNIcH5",
        "outputId": "913e18c7-b4db-47b7-de36-4b09486eb7c7"
      },
      "execution_count": null,
      "outputs": [
        {
          "output_type": "execute_result",
          "data": {
            "text/plain": [
              "<class 'statsmodels.iolib.summary.Summary'>\n",
              "\"\"\"\n",
              "                                 OLS Regression Results                                \n",
              "=======================================================================================\n",
              "Dep. Variable:                  HARGA   R-squared (uncentered):               -2754.039\n",
              "Model:                            OLS   Adj. R-squared (uncentered):          -2767.745\n",
              "Method:                 Least Squares   F-statistic:                             -200.9\n",
              "Date:                Fri, 23 Jun 2023   Prob (F-statistic):                        1.00\n",
              "Time:                        01:46:23   Log-Likelihood:                         -23742.\n",
              "No. Observations:                1010   AIC:                                  4.749e+04\n",
              "Df Residuals:                    1005   BIC:                                  4.752e+04\n",
              "Df Model:                           5                                                  \n",
              "Covariance Type:            nonrobust                                                  \n",
              "==============================================================================\n",
              "                 coef    std err          t      P>|t|      [0.025      0.975]\n",
              "------------------------------------------------------------------------------\n",
              "LB          1.232e+07   1.14e+06     10.812      0.000    1.01e+07    1.46e+07\n",
              "LT          2.375e+07   1.06e+06     22.302      0.000    2.17e+07    2.58e+07\n",
              "KT         -7.242e+08   9.33e+07     -7.761      0.000   -9.07e+08   -5.41e+08\n",
              "KM          4.091e+08   1.24e+08      3.292      0.001    1.65e+08    6.53e+08\n",
              "GRS         2.908e+08   9.61e+07      3.025      0.003    1.02e+08    4.79e+08\n",
              "==============================================================================\n",
              "Omnibus:                      922.378   Durbin-Watson:                   1.945\n",
              "Prob(Omnibus):                  0.000   Jarque-Bera (JB):            99625.072\n",
              "Skew:                           3.708   Prob(JB):                         0.00\n",
              "Kurtosis:                      51.087   Cond. No.                         523.\n",
              "==============================================================================\n",
              "\n",
              "Notes:\n",
              "[1] R² is computed without centering (uncentered) since the model does not contain a constant.\n",
              "[2] Standard Errors assume that the covariance matrix of the errors is correctly specified.\n",
              "\"\"\""
            ],
            "text/html": [
              "<table class=\"simpletable\">\n",
              "<caption>OLS Regression Results</caption>\n",
              "<tr>\n",
              "  <th>Dep. Variable:</th>          <td>HARGA</td>      <th>  R-squared (uncentered):</th>      <td>-2754.039</td>\n",
              "</tr>\n",
              "<tr>\n",
              "  <th>Model:</th>                   <td>OLS</td>       <th>  Adj. R-squared (uncentered):</th> <td>-2767.745</td>\n",
              "</tr>\n",
              "<tr>\n",
              "  <th>Method:</th>             <td>Least Squares</td>  <th>  F-statistic:       </th>          <td>  -200.9</td> \n",
              "</tr>\n",
              "<tr>\n",
              "  <th>Date:</th>             <td>Fri, 23 Jun 2023</td> <th>  Prob (F-statistic):</th>           <td>  1.00</td>  \n",
              "</tr>\n",
              "<tr>\n",
              "  <th>Time:</th>                 <td>01:46:23</td>     <th>  Log-Likelihood:    </th>          <td> -23742.</td> \n",
              "</tr>\n",
              "<tr>\n",
              "  <th>No. Observations:</th>      <td>  1010</td>      <th>  AIC:               </th>          <td>4.749e+04</td>\n",
              "</tr>\n",
              "<tr>\n",
              "  <th>Df Residuals:</th>          <td>  1005</td>      <th>  BIC:               </th>          <td>4.752e+04</td>\n",
              "</tr>\n",
              "<tr>\n",
              "  <th>Df Model:</th>              <td>     5</td>      <th>                     </th>              <td> </td>    \n",
              "</tr>\n",
              "<tr>\n",
              "  <th>Covariance Type:</th>      <td>nonrobust</td>    <th>                     </th>              <td> </td>    \n",
              "</tr>\n",
              "</table>\n",
              "<table class=\"simpletable\">\n",
              "<tr>\n",
              "   <td></td>      <th>coef</th>     <th>std err</th>      <th>t</th>      <th>P>|t|</th>  <th>[0.025</th>    <th>0.975]</th>  \n",
              "</tr>\n",
              "<tr>\n",
              "  <th>LB</th>  <td> 1.232e+07</td> <td> 1.14e+06</td> <td>   10.812</td> <td> 0.000</td> <td> 1.01e+07</td> <td> 1.46e+07</td>\n",
              "</tr>\n",
              "<tr>\n",
              "  <th>LT</th>  <td> 2.375e+07</td> <td> 1.06e+06</td> <td>   22.302</td> <td> 0.000</td> <td> 2.17e+07</td> <td> 2.58e+07</td>\n",
              "</tr>\n",
              "<tr>\n",
              "  <th>KT</th>  <td>-7.242e+08</td> <td> 9.33e+07</td> <td>   -7.761</td> <td> 0.000</td> <td>-9.07e+08</td> <td>-5.41e+08</td>\n",
              "</tr>\n",
              "<tr>\n",
              "  <th>KM</th>  <td> 4.091e+08</td> <td> 1.24e+08</td> <td>    3.292</td> <td> 0.001</td> <td> 1.65e+08</td> <td> 6.53e+08</td>\n",
              "</tr>\n",
              "<tr>\n",
              "  <th>GRS</th> <td> 2.908e+08</td> <td> 9.61e+07</td> <td>    3.025</td> <td> 0.003</td> <td> 1.02e+08</td> <td> 4.79e+08</td>\n",
              "</tr>\n",
              "</table>\n",
              "<table class=\"simpletable\">\n",
              "<tr>\n",
              "  <th>Omnibus:</th>       <td>922.378</td> <th>  Durbin-Watson:     </th> <td>   1.945</td> \n",
              "</tr>\n",
              "<tr>\n",
              "  <th>Prob(Omnibus):</th> <td> 0.000</td>  <th>  Jarque-Bera (JB):  </th> <td>99625.072</td>\n",
              "</tr>\n",
              "<tr>\n",
              "  <th>Skew:</th>          <td> 3.708</td>  <th>  Prob(JB):          </th> <td>    0.00</td> \n",
              "</tr>\n",
              "<tr>\n",
              "  <th>Kurtosis:</th>      <td>51.087</td>  <th>  Cond. No.          </th> <td>    523.</td> \n",
              "</tr>\n",
              "</table><br/><br/>Notes:<br/>[1] R² is computed without centering (uncentered) since the model does not contain a constant.<br/>[2] Standard Errors assume that the covariance matrix of the errors is correctly specified."
            ]
          },
          "metadata": {},
          "execution_count": 34
        }
      ]
    },
    {
      "cell_type": "code",
      "source": [
        "# adding a constant variable\n",
        "X=sm.add_constant(x)\n",
        "model=sm.OLS(y,X).fit()\n",
        "model.summary()"
      ],
      "metadata": {
        "execution": {
          "iopub.status.busy": "2023-04-14T10:49:48.039546Z",
          "iopub.execute_input": "2023-04-14T10:49:48.040023Z",
          "iopub.status.idle": "2023-04-14T10:49:48.069918Z",
          "shell.execute_reply.started": "2023-04-14T10:49:48.039979Z",
          "shell.execute_reply": "2023-04-14T10:49:48.068810Z"
        },
        "trusted": true,
        "colab": {
          "base_uri": "https://localhost:8080/",
          "height": 554
        },
        "id": "tsL6nLFAIcH6",
        "outputId": "0a606bb9-48a4-401e-c549-3aa53921ab19"
      },
      "execution_count": null,
      "outputs": [
        {
          "output_type": "execute_result",
          "data": {
            "text/plain": [
              "<class 'statsmodels.iolib.summary.Summary'>\n",
              "\"\"\"\n",
              "                            OLS Regression Results                            \n",
              "==============================================================================\n",
              "Dep. Variable:                  HARGA   R-squared:                       0.716\n",
              "Model:                            OLS   Adj. R-squared:                  0.715\n",
              "Method:                 Least Squares   F-statistic:                     506.8\n",
              "Date:                Fri, 23 Jun 2023   Prob (F-statistic):          1.25e-271\n",
              "Time:                        01:46:23   Log-Likelihood:                -23740.\n",
              "No. Observations:                1010   AIC:                         4.749e+04\n",
              "Df Residuals:                    1004   BIC:                         4.752e+04\n",
              "Df Model:                           5                                         \n",
              "Covariance Type:            nonrobust                                         \n",
              "==============================================================================\n",
              "                 coef    std err          t      P>|t|      [0.025      0.975]\n",
              "------------------------------------------------------------------------------\n",
              "const      -7.417e+08      4e+08     -1.856      0.064   -1.53e+09    4.27e+07\n",
              "LB          1.232e+07   1.14e+06     10.824      0.000    1.01e+07    1.46e+07\n",
              "LT          2.366e+07   1.06e+06     22.221      0.000    2.16e+07    2.57e+07\n",
              "KT         -6.195e+08   1.09e+08     -5.686      0.000   -8.33e+08   -4.06e+08\n",
              "KM          4.555e+08   1.27e+08      3.598      0.000    2.07e+08    7.04e+08\n",
              "GRS           3.1e+08   9.66e+07      3.209      0.001     1.2e+08    4.99e+08\n",
              "==============================================================================\n",
              "Omnibus:                      908.406   Durbin-Watson:                   1.944\n",
              "Prob(Omnibus):                  0.000   Jarque-Bera (JB):            98134.485\n",
              "Skew:                           3.611   Prob(JB):                         0.00\n",
              "Kurtosis:                      50.747   Cond. No.                     1.42e+03\n",
              "==============================================================================\n",
              "\n",
              "Notes:\n",
              "[1] Standard Errors assume that the covariance matrix of the errors is correctly specified.\n",
              "[2] The condition number is large, 1.42e+03. This might indicate that there are\n",
              "strong multicollinearity or other numerical problems.\n",
              "\"\"\""
            ],
            "text/html": [
              "<table class=\"simpletable\">\n",
              "<caption>OLS Regression Results</caption>\n",
              "<tr>\n",
              "  <th>Dep. Variable:</th>          <td>HARGA</td>      <th>  R-squared:         </th> <td>   0.716</td> \n",
              "</tr>\n",
              "<tr>\n",
              "  <th>Model:</th>                   <td>OLS</td>       <th>  Adj. R-squared:    </th> <td>   0.715</td> \n",
              "</tr>\n",
              "<tr>\n",
              "  <th>Method:</th>             <td>Least Squares</td>  <th>  F-statistic:       </th> <td>   506.8</td> \n",
              "</tr>\n",
              "<tr>\n",
              "  <th>Date:</th>             <td>Fri, 23 Jun 2023</td> <th>  Prob (F-statistic):</th> <td>1.25e-271</td>\n",
              "</tr>\n",
              "<tr>\n",
              "  <th>Time:</th>                 <td>01:46:23</td>     <th>  Log-Likelihood:    </th> <td> -23740.</td> \n",
              "</tr>\n",
              "<tr>\n",
              "  <th>No. Observations:</th>      <td>  1010</td>      <th>  AIC:               </th> <td>4.749e+04</td>\n",
              "</tr>\n",
              "<tr>\n",
              "  <th>Df Residuals:</th>          <td>  1004</td>      <th>  BIC:               </th> <td>4.752e+04</td>\n",
              "</tr>\n",
              "<tr>\n",
              "  <th>Df Model:</th>              <td>     5</td>      <th>                     </th>     <td> </td>    \n",
              "</tr>\n",
              "<tr>\n",
              "  <th>Covariance Type:</th>      <td>nonrobust</td>    <th>                     </th>     <td> </td>    \n",
              "</tr>\n",
              "</table>\n",
              "<table class=\"simpletable\">\n",
              "<tr>\n",
              "    <td></td>       <th>coef</th>     <th>std err</th>      <th>t</th>      <th>P>|t|</th>  <th>[0.025</th>    <th>0.975]</th>  \n",
              "</tr>\n",
              "<tr>\n",
              "  <th>const</th> <td>-7.417e+08</td> <td>    4e+08</td> <td>   -1.856</td> <td> 0.064</td> <td>-1.53e+09</td> <td> 4.27e+07</td>\n",
              "</tr>\n",
              "<tr>\n",
              "  <th>LB</th>    <td> 1.232e+07</td> <td> 1.14e+06</td> <td>   10.824</td> <td> 0.000</td> <td> 1.01e+07</td> <td> 1.46e+07</td>\n",
              "</tr>\n",
              "<tr>\n",
              "  <th>LT</th>    <td> 2.366e+07</td> <td> 1.06e+06</td> <td>   22.221</td> <td> 0.000</td> <td> 2.16e+07</td> <td> 2.57e+07</td>\n",
              "</tr>\n",
              "<tr>\n",
              "  <th>KT</th>    <td>-6.195e+08</td> <td> 1.09e+08</td> <td>   -5.686</td> <td> 0.000</td> <td>-8.33e+08</td> <td>-4.06e+08</td>\n",
              "</tr>\n",
              "<tr>\n",
              "  <th>KM</th>    <td> 4.555e+08</td> <td> 1.27e+08</td> <td>    3.598</td> <td> 0.000</td> <td> 2.07e+08</td> <td> 7.04e+08</td>\n",
              "</tr>\n",
              "<tr>\n",
              "  <th>GRS</th>   <td>   3.1e+08</td> <td> 9.66e+07</td> <td>    3.209</td> <td> 0.001</td> <td>  1.2e+08</td> <td> 4.99e+08</td>\n",
              "</tr>\n",
              "</table>\n",
              "<table class=\"simpletable\">\n",
              "<tr>\n",
              "  <th>Omnibus:</th>       <td>908.406</td> <th>  Durbin-Watson:     </th> <td>   1.944</td> \n",
              "</tr>\n",
              "<tr>\n",
              "  <th>Prob(Omnibus):</th> <td> 0.000</td>  <th>  Jarque-Bera (JB):  </th> <td>98134.485</td>\n",
              "</tr>\n",
              "<tr>\n",
              "  <th>Skew:</th>          <td> 3.611</td>  <th>  Prob(JB):          </th> <td>    0.00</td> \n",
              "</tr>\n",
              "<tr>\n",
              "  <th>Kurtosis:</th>      <td>50.747</td>  <th>  Cond. No.          </th> <td>1.42e+03</td> \n",
              "</tr>\n",
              "</table><br/><br/>Notes:<br/>[1] Standard Errors assume that the covariance matrix of the errors is correctly specified.<br/>[2] The condition number is large, 1.42e+03. This might indicate that there are<br/>strong multicollinearity or other numerical problems."
            ]
          },
          "metadata": {},
          "execution_count": 35
        }
      ]
    },
    {
      "cell_type": "markdown",
      "source": [
        "### Normality test"
      ],
      "metadata": {
        "id": "Yegm2BY8IcH7"
      }
    },
    {
      "cell_type": "markdown",
      "source": [
        "In the normality test we use the Prob Jarque Bera (JB) value from the above test of 0.00. With the following hypothesis:\n",
        "\n",
        "- Determine the Hypothesis\n",
        "     - H0 : Residuals are normally distributed\n",
        "     - H1 : Residuals are not normally distributed\n",
        "- Significance level\n",
        "     - ∝=5% (∝=0.05)\n",
        "- Test Statistics\n",
        "     - p-value = 0.00\n",
        "- Critical area\n",
        "     - Reject H0 if p-value < α\n",
        "- Decision\n",
        "     - Because the p-value is equal to 0.00, where the p-value < α is 0.00 < 0.05, then reject H0.\n",
        "- Conclusion\n",
        "     - In this dataset the data is not normally distributed"
      ],
      "metadata": {
        "id": "dl-bmBEUIcH7"
      }
    },
    {
      "cell_type": "markdown",
      "source": [
        "### Multicollinearity test"
      ],
      "metadata": {
        "id": "-ii_ffyMIcH8"
      }
    },
    {
      "cell_type": "code",
      "source": [
        "from patsy import dmatrices\n",
        "import statsmodels.formula.api as smf\n",
        "from statsmodels.stats.outliers_influence import variance_inflation_factor\n",
        "\n",
        "lm = smf.ols(formula = \"HARGA~LB+LT+KT+KM+GRS\", data = df).fit()\n",
        "Y,X = dmatrices (\"HARGA~LB+LT+KT+KM+GRS\", data = df, return_type =\"dataframe\")\n",
        "vif = [variance_inflation_factor(X.values, i) for i in range (X.shape[1])]\n",
        "print(vif)"
      ],
      "metadata": {
        "execution": {
          "iopub.status.busy": "2023-04-14T10:49:48.071658Z",
          "iopub.execute_input": "2023-04-14T10:49:48.072153Z",
          "iopub.status.idle": "2023-04-14T10:49:48.115383Z",
          "shell.execute_reply.started": "2023-04-14T10:49:48.072104Z",
          "shell.execute_reply": "2023-04-14T10:49:48.113705Z"
        },
        "trusted": true,
        "colab": {
          "base_uri": "https://localhost:8080/"
        },
        "id": "9zF0KlS4IcH8",
        "outputId": "fdb39716-d839-4154-d927-9c5de3fa7fa1"
      },
      "execution_count": null,
      "outputs": [
        {
          "output_type": "stream",
          "name": "stdout",
          "text": [
            "[10.500700619760497, 2.6902235160668386, 2.410290942259932, 1.9280243602936888, 2.122260472079954, 1.398235535323092]\n"
          ]
        }
      ]
    },
    {
      "cell_type": "markdown",
      "source": [
        "Multicollinearity test to show whether there is a correlation between the independent variables in multiple linear regression.\n",
        "- Determine the Hypothesis\n",
        "     - H0 : VIF < 10 means there is no multicollinearity.\n",
        "     - H1 : VIF > 10 means that there is multicollinearity.\n",
        "- Significance level\n",
        "     - ∝=5% (∝=0.05)\n",
        "- Test Statistics\n",
        "     - VIF :\n",
        "     - Constant = 10,500\n",
        "     -LB = 2,690\n",
        "     - LT = 2,410\n",
        "     - KT = 1,928\n",
        "     - Miles = 2,122\n",
        "     - GRS = 2,122\n",
        "- Critical Area\n",
        "     - Reject H0 if VIF > ∝\n",
        "- Decision\n",
        "     - Because the VIF value (LB = 2,690, LT = 2,410, KT = 1,928, KM = 2,122, and GRS = 2,122) < α then fails to Reject H0\n",
        "- Conclusion\n",
        "     - So, the data set does not have multicollinearity"
      ],
      "metadata": {
        "id": "NzDYFP3CIcH8"
      }
    },
    {
      "cell_type": "markdown",
      "source": [
        "### Heteroscedasticity test"
      ],
      "metadata": {
        "id": "ikGt_qq0IcH9"
      }
    },
    {
      "cell_type": "code",
      "source": [
        "lm=smf.ols(formula=\"HARGA~LB+LT+KT+KM+GRS\",data=df).fit()\n",
        "lm\n",
        "resid=lm.resid\n",
        "plt.scatter(lm.predict(),resid)"
      ],
      "metadata": {
        "execution": {
          "iopub.status.busy": "2023-04-14T10:49:48.117297Z",
          "iopub.execute_input": "2023-04-14T10:49:48.117652Z",
          "iopub.status.idle": "2023-04-14T10:49:48.423270Z",
          "shell.execute_reply.started": "2023-04-14T10:49:48.117619Z",
          "shell.execute_reply": "2023-04-14T10:49:48.421919Z"
        },
        "trusted": true,
        "colab": {
          "base_uri": "https://localhost:8080/",
          "height": 480
        },
        "id": "eVILt5CxIcH9",
        "outputId": "33c73a06-891e-4d5e-d2dd-7441b40accd9"
      },
      "execution_count": null,
      "outputs": [
        {
          "output_type": "execute_result",
          "data": {
            "text/plain": [
              "<matplotlib.collections.PathCollection at 0x7f93427a5e10>"
            ]
          },
          "metadata": {},
          "execution_count": 37
        },
        {
          "output_type": "display_data",
          "data": {
            "text/plain": [
              "<Figure size 640x480 with 1 Axes>"
            ],
            "image/png": "[encoded data removed]"
          },
          "metadata": {}
        }
      ]
    },
    {
      "cell_type": "code",
      "source": [
        "import statsmodels.stats as stats\n",
        "\n",
        "stats.diagnostic.het_white(resid, lm.model.exog)"
      ],
      "metadata": {
        "execution": {
          "iopub.status.busy": "2023-04-14T10:49:48.424704Z",
          "iopub.execute_input": "2023-04-14T10:49:48.425811Z",
          "iopub.status.idle": "2023-04-14T10:49:48.453720Z",
          "shell.execute_reply.started": "2023-04-14T10:49:48.425759Z",
          "shell.execute_reply": "2023-04-14T10:49:48.451984Z"
        },
        "trusted": true,
        "colab": {
          "base_uri": "https://localhost:8080/"
        },
        "id": "UfVcuMXiIcH9",
        "outputId": "0c88fffc-9137-42f0-f23b-d36d1824cec3"
      },
      "execution_count": null,
      "outputs": [
        {
          "output_type": "execute_result",
          "data": {
            "text/plain": [
              "(137.16019937750292,\n",
              " 1.7462172530240334e-19,\n",
              " 7.770694982493103,\n",
              " 4.274750011791549e-21)"
            ]
          },
          "metadata": {},
          "execution_count": 38
        }
      ]
    },
    {
      "cell_type": "markdown",
      "source": [
        "Based on the results of the heteroscedasticity test, it can be seen that the dots have no clear shape. And the scatter points above and below the number 0 on the Y axis. So it can be concluded that there is no heteroscedasticity problem in the regression model."
      ],
      "metadata": {
        "id": "IW-x-jIMIcH9"
      }
    },
    {
      "cell_type": "markdown",
      "source": [
        "## Partial test"
      ],
      "metadata": {
        "id": "o-MMZwswIcH9"
      }
    },
    {
      "cell_type": "markdown",
      "source": [
        "Partial test is used to determine whether the independent variable (X) has a significant (real) impact on the dependent variable (Y). From the data above, the p-value (Constant) is 0.064, the value (LB) is 0.000, the value (LT) is 0.000, the value (KT) is 0.000, the value (KM) is 0.000, and the value (GRS) is 0.001.\n",
        "Here's the hypothesis:\n",
        "- Hypothesis\n",
        "     - H0 : βi = 0, i = 0,1,2 (There is no significant effect between X and Y)\n",
        "     - H1 : βi ≠ 0, i = 0,1,2 (There is a significant effect between X and Y)\n",
        "- Significance level\n",
        "     - ∝=5% = 0.05\n",
        "- Critical area\n",
        "     - If p-value ≤ ∝ (0.05) → Reject H0\n",
        "     - P-value : = 0.001 and = 0.000 ; ∝= 0.05\n",
        "- Decision\n",
        "     - Because the p-value for β1, β2, β3, β4, β5 < ∝ then reject\n",
        "- Conclusion\n",
        "     - In the dataset there is a significant influence between variable X (LB, LT, KT, KM, GRS) and variable Y (Harga)."
      ],
      "metadata": {
        "id": "TXGODwC1IcH-"
      }
    },
    {
      "cell_type": "markdown",
      "source": [
        "## Modelling"
      ],
      "metadata": {
        "id": "EioInGMUIcH-"
      }
    },
    {
      "cell_type": "code",
      "source": [
        "from sklearn.model_selection import train_test_split\n",
        "\n",
        "X_train, X_test, y_train, y_test = train_test_split(x, y, test_size=0.4, random_state=4)\n",
        "X_train.shape , X_test.shape, y_train.shape, y_test.shape"
      ],
      "metadata": {
        "execution": {
          "iopub.status.busy": "2023-04-14T10:49:48.455869Z",
          "iopub.execute_input": "2023-04-14T10:49:48.464232Z",
          "iopub.status.idle": "2023-04-14T10:49:48.664662Z",
          "shell.execute_reply.started": "2023-04-14T10:49:48.464138Z",
          "shell.execute_reply": "2023-04-14T10:49:48.663310Z"
        },
        "trusted": true,
        "colab": {
          "base_uri": "https://localhost:8080/"
        },
        "id": "Mmq-pfifIcH-",
        "outputId": "1d923db9-fe6f-4231-bc42-4afc5ec95865"
      },
      "execution_count": null,
      "outputs": [
        {
          "output_type": "execute_result",
          "data": {
            "text/plain": [
              "((606, 5), (404, 5), (606,), (404,))"
            ]
          },
          "metadata": {},
          "execution_count": 39
        }
      ]
    },
    {
      "cell_type": "code",
      "source": [
        "from sklearn.linear_model import LinearRegression\n",
        "\n",
        "lin_reg = LinearRegression()\n",
        "lin_reg.fit(X_train, y_train)"
      ],
      "metadata": {
        "execution": {
          "iopub.status.busy": "2023-04-14T10:49:48.666094Z",
          "iopub.execute_input": "2023-04-14T10:49:48.666538Z",
          "iopub.status.idle": "2023-04-14T10:49:48.967779Z",
          "shell.execute_reply.started": "2023-04-14T10:49:48.666488Z",
          "shell.execute_reply": "2023-04-14T10:49:48.966849Z"
        },
        "trusted": true,
        "colab": {
          "base_uri": "https://localhost:8080/",
          "height": 75
        },
        "id": "pmc1ueJ1IcH-",
        "outputId": "009990c2-49df-4b4b-e754-ed9f2230c12b"
      },
      "execution_count": null,
      "outputs": [
        {
          "output_type": "execute_result",
          "data": {
            "text/plain": [
              "LinearRegression()"
            ],
            "text/html": [
              "<style>#sk-container-id-1 {color: black;background-color: white;}#sk-container-id-1 pre{padding: 0;}#sk-container-id-1 div.sk-toggleable {background-color: white;}#sk-container-id-1 label.sk-toggleable__label {cursor: pointer;display: block;width: 100%;margin-bottom: 0;padding: 0.3em;box-sizing: border-box;text-align: center;}#sk-container-id-1 label.sk-toggleable__label-arrow:before {content: \"▸\";float: left;margin-right: 0.25em;color: #696969;}#sk-container-id-1 label.sk-toggleable__label-arrow:hover:before {color: black;}#sk-container-id-1 div.sk-estimator:hover label.sk-toggleable__label-arrow:before {color: black;}#sk-container-id-1 div.sk-toggleable__content {max-height: 0;max-width: 0;overflow: hidden;text-align: left;background-color: #f0f8ff;}#sk-container-id-1 div.sk-toggleable__content pre {margin: 0.2em;color: black;border-radius: 0.25em;background-color: #f0f8ff;}#sk-container-id-1 input.sk-toggleable__control:checked~div.sk-toggleable__content {max-height: 200px;max-width: 100%;overflow: auto;}#sk-container-id-1 input.sk-toggleable__control:checked~label.sk-toggleable__label-arrow:before {content: \"▾\";}#sk-container-id-1 div.sk-estimator input.sk-toggleable__control:checked~label.sk-toggleable__label {background-color: #d4ebff;}#sk-container-id-1 div.sk-label input.sk-toggleable__control:checked~label.sk-toggleable__label {background-color: #d4ebff;}#sk-container-id-1 input.sk-hidden--visually {border: 0;clip: rect(1px 1px 1px 1px);clip: rect(1px, 1px, 1px, 1px);height: 1px;margin: -1px;overflow: hidden;padding: 0;position: absolute;width: 1px;}#sk-container-id-1 div.sk-estimator {font-family: monospace;background-color: #f0f8ff;border: 1px dotted black;border-radius: 0.25em;box-sizing: border-box;margin-bottom: 0.5em;}#sk-container-id-1 div.sk-estimator:hover {background-color: #d4ebff;}#sk-container-id-1 div.sk-parallel-item::after {content: \"\";width: 100%;border-bottom: 1px solid gray;flex-grow: 1;}#sk-container-id-1 div.sk-label:hover label.sk-toggleable__label {background-color: #d4ebff;}#sk-container-id-1 div.sk-serial::before {content: \"\";position: absolute;border-left: 1px solid gray;box-sizing: border-box;top: 0;bottom: 0;left: 50%;z-index: 0;}#sk-container-id-1 div.sk-serial {display: flex;flex-direction: column;align-items: center;background-color: white;padding-right: 0.2em;padding-left: 0.2em;position: relative;}#sk-container-id-1 div.sk-item {position: relative;z-index: 1;}#sk-container-id-1 div.sk-parallel {display: flex;align-items: stretch;justify-content: center;background-color: white;position: relative;}#sk-container-id-1 div.sk-item::before, #sk-container-id-1 div.sk-parallel-item::before {content: \"\";position: absolute;border-left: 1px solid gray;box-sizing: border-box;top: 0;bottom: 0;left: 50%;z-index: -1;}#sk-container-id-1 div.sk-parallel-item {display: flex;flex-direction: column;z-index: 1;position: relative;background-color: white;}#sk-container-id-1 div.sk-parallel-item:first-child::after {align-self: flex-end;width: 50%;}#sk-container-id-1 div.sk-parallel-item:last-child::after {align-self: flex-start;width: 50%;}#sk-container-id-1 div.sk-parallel-item:only-child::after {width: 0;}#sk-container-id-1 div.sk-dashed-wrapped {border: 1px dashed gray;margin: 0 0.4em 0.5em 0.4em;box-sizing: border-box;padding-bottom: 0.4em;background-color: white;}#sk-container-id-1 div.sk-label label {font-family: monospace;font-weight: bold;display: inline-block;line-height: 1.2em;}#sk-container-id-1 div.sk-label-container {text-align: center;}#sk-container-id-1 div.sk-container {/* jupyter's `normalize.less` sets `[hidden] { display: none; }` but bootstrap.min.css set `[hidden] { display: none !important; }` so we also need the `!important` here to be able to override the default hidden behavior on the sphinx rendered scikit-learn.org. See: https://github.com/scikit-learn/scikit-learn/issues/21755 */display: inline-block !important;position: relative;}#sk-container-id-1 div.sk-text-repr-fallback {display: none;}</style><div id=\"sk-container-id-1\" class=\"sk-top-container\"><div class=\"sk-text-repr-fallback\"><pre>LinearRegression()</pre><b>In a Jupyter environment, please rerun this cell to show the HTML representation or trust the notebook. <br />On GitHub, the HTML representation is unable to render, please try loading this page with nbviewer.org.</b></div><div class=\"sk-container\" hidden><div class=\"sk-item\"><div class=\"sk-estimator sk-toggleable\"><input class=\"sk-toggleable__control sk-hidden--visually\" id=\"sk-estimator-id-1\" type=\"checkbox\" checked><label for=\"sk-estimator-id-1\" class=\"sk-toggleable__label sk-toggleable__label-arrow\">LinearRegression</label><div class=\"sk-toggleable__content\"><pre>LinearRegression()</pre></div></div></div></div></div>"
            ]
          },
          "metadata": {},
          "execution_count": 40
        }
      ]
    },
    {
      "cell_type": "code",
      "source": [
        "# shows the value of the slope/coefficient) and intercept (b)\n",
        "print(lin_reg.coef_)\n",
        "print(lin_reg.intercept_)"
      ],
      "metadata": {
        "execution": {
          "iopub.status.busy": "2023-04-14T10:49:48.969399Z",
          "iopub.execute_input": "2023-04-14T10:49:48.969810Z",
          "iopub.status.idle": "2023-04-14T10:49:48.976279Z",
          "shell.execute_reply.started": "2023-04-14T10:49:48.969766Z",
          "shell.execute_reply": "2023-04-14T10:49:48.974832Z"
        },
        "trusted": true,
        "colab": {
          "base_uri": "https://localhost:8080/"
        },
        "id": "i5-Qpf8hIcH_",
        "outputId": "aed31367-7268-44a8-a112-6db3148487b3"
      },
      "execution_count": null,
      "outputs": [
        {
          "output_type": "stream",
          "name": "stdout",
          "text": [
            "[ 1.05741763e+07  2.56909842e+07 -6.26072834e+08  4.28022537e+08\n",
            "  2.64833032e+08]\n",
            "-482584002.8724966\n"
          ]
        }
      ]
    },
    {
      "cell_type": "code",
      "source": [
        "coef_dict = {\n",
        "    'features':x.columns,\n",
        "    'coef_value':lin_reg.coef_\n",
        "}\n",
        "coef = pd.DataFrame(coef_dict, columns = ['features', 'coef_value'])\n",
        "coef"
      ],
      "metadata": {
        "execution": {
          "iopub.status.busy": "2023-04-14T10:49:48.977801Z",
          "iopub.execute_input": "2023-04-14T10:49:48.978824Z",
          "iopub.status.idle": "2023-04-14T10:49:49.002027Z",
          "shell.execute_reply.started": "2023-04-14T10:49:48.978770Z",
          "shell.execute_reply": "2023-04-14T10:49:49.000659Z"
        },
        "trusted": true,
        "colab": {
          "base_uri": "https://localhost:8080/",
          "height": 206
        },
        "id": "xe5HsaDhIcH_",
        "outputId": "b312c47e-5f6f-453c-fcb8-246bed77bc6e"
      },
      "execution_count": null,
      "outputs": [
        {
          "output_type": "execute_result",
          "data": {
            "text/plain": [
              "  features    coef_value\n",
              "0       LB  1.057418e+07\n",
              "1       LT  2.569098e+07\n",
              "2       KT -6.260728e+08\n",
              "3       KM  4.280225e+08\n",
              "4      GRS  2.648330e+08"
            ],
            "text/html": [
              "\n",
              "  <div id=\"df-9e150d81-fbf2-4e38-89ca-7cf458dd8be0\">\n",
              "    <div class=\"colab-df-container\">\n",
              "      <div>\n",
              "<style scoped>\n",
              "    .dataframe tbody tr th:only-of-type {\n",
              "        vertical-align: middle;\n",
              "    }\n",
              "\n",
              "    .dataframe tbody tr th {\n",
              "        vertical-align: top;\n",
              "    }\n",
              "\n",
              "    .dataframe thead th {\n",
              "        text-align: right;\n",
              "    }\n",
              "</style>\n",
              "<table border=\"1\" class=\"dataframe\">\n",
              "  <thead>\n",
              "    <tr style=\"text-align: right;\">\n",
              "      <th></th>\n",
              "      <th>features</th>\n",
              "      <th>coef_value</th>\n",
              "    </tr>\n",
              "  </thead>\n",
              "  <tbody>\n",
              "    <tr>\n",
              "      <th>0</th>\n",
              "      <td>LB</td>\n",
              "      <td>1.057418e+07</td>\n",
              "    </tr>\n",
              "    <tr>\n",
              "      <th>1</th>\n",
              "      <td>LT</td>\n",
              "      <td>2.569098e+07</td>\n",
              "    </tr>\n",
              "    <tr>\n",
              "      <th>2</th>\n",
              "      <td>KT</td>\n",
              "      <td>-6.260728e+08</td>\n",
              "    </tr>\n",
              "    <tr>\n",
              "      <th>3</th>\n",
              "      <td>KM</td>\n",
              "      <td>4.280225e+08</td>\n",
              "    </tr>\n",
              "    <tr>\n",
              "      <th>4</th>\n",
              "      <td>GRS</td>\n",
              "      <td>2.648330e+08</td>\n",
              "    </tr>\n",
              "  </tbody>\n",
              "</table>\n",
              "</div>\n",
              "      <button class=\"colab-df-convert\" onclick=\"convertToInteractive('df-9e150d81-fbf2-4e38-89ca-7cf458dd8be0')\"\n",
              "              title=\"Convert this dataframe to an interactive table.\"\n",
              "              style=\"display:none;\">\n",
              "        \n",
              "  <svg xmlns=\"http://www.w3.org/2000/svg\" height=\"24px\"viewBox=\"0 0 24 24\"\n",
              "       width=\"24px\">\n",
              "    <path d=\"M0 0h24v24H0V0z\" fill=\"none\"/>\n",
              "    <path d=\"M18.56 5.44l.94 2.06.94-2.06 2.06-.94-2.06-.94-.94-2.06-.94 2.06-2.06.94zm-11 1L8.5 8.5l.94-2.06 2.06-.94-2.06-.94L8.5 2.5l-.94 2.06-2.06.94zm10 10l.94 2.06.94-2.06 2.06-.94-2.06-.94-.94-2.06-.94 2.06-2.06.94z\"/><path d=\"M17.41 7.96l-1.37-1.37c-.4-.4-.92-.59-1.43-.59-.52 0-1.04.2-1.43.59L10.3 9.45l-7.72 7.72c-.78.78-.78 2.05 0 2.83L4 21.41c.39.39.9.59 1.41.59.51 0 1.02-.2 1.41-.59l7.78-7.78 2.81-2.81c.8-.78.8-2.07 0-2.86zM5.41 20L4 18.59l7.72-7.72 1.47 1.35L5.41 20z\"/>\n",
              "  </svg>\n",
              "      </button>\n",
              "      \n",
              "  <style>\n",
              "    .colab-df-container {\n",
              "      display:flex;\n",
              "      flex-wrap:wrap;\n",
              "      gap: 12px;\n",
              "    }\n",
              "\n",
              "    .colab-df-convert {\n",
              "      background-color: #E8F0FE;\n",
              "      border: none;\n",
              "      border-radius: 50%;\n",
              "      cursor: pointer;\n",
              "      display: none;\n",
              "      fill: #1967D2;\n",
              "      height: 32px;\n",
              "      padding: 0 0 0 0;\n",
              "      width: 32px;\n",
              "    }\n",
              "\n",
              "    .colab-df-convert:hover {\n",
              "      background-color: #E2EBFA;\n",
              "      box-shadow: 0px 1px 2px rgba(60, 64, 67, 0.3), 0px 1px 3px 1px rgba(60, 64, 67, 0.15);\n",
              "      fill: #174EA6;\n",
              "    }\n",
              "\n",
              "    [theme=dark] .colab-df-convert {\n",
              "      background-color: #3B4455;\n",
              "      fill: #D2E3FC;\n",
              "    }\n",
              "\n",
              "    [theme=dark] .colab-df-convert:hover {\n",
              "      background-color: #434B5C;\n",
              "      box-shadow: 0px 1px 3px 1px rgba(0, 0, 0, 0.15);\n",
              "      filter: drop-shadow(0px 1px 2px rgba(0, 0, 0, 0.3));\n",
              "      fill: #FFFFFF;\n",
              "    }\n",
              "  </style>\n",
              "\n",
              "      <script>\n",
              "        const buttonEl =\n",
              "          document.querySelector('#df-9e150d81-fbf2-4e38-89ca-7cf458dd8be0 button.colab-df-convert');\n",
              "        buttonEl.style.display =\n",
              "          google.colab.kernel.accessAllowed ? 'block' : 'none';\n",
              "\n",
              "        async function convertToInteractive(key) {\n",
              "          const element = document.querySelector('#df-9e150d81-fbf2-4e38-89ca-7cf458dd8be0');\n",
              "          const dataTable =\n",
              "            await google.colab.kernel.invokeFunction('convertToInteractive',\n",
              "                                                     [key], {});\n",
              "          if (!dataTable) return;\n",
              "\n",
              "          const docLinkHtml = 'Like what you see? Visit the ' +\n",
              "            '<a target=\"_blank\" href=https://colab.research.google.com/notebooks/data_table.ipynb>data table notebook</a>'\n",
              "            + ' to learn more about interactive tables.';\n",
              "          element.innerHTML = '';\n",
              "          dataTable['output_type'] = 'display_data';\n",
              "          await google.colab.output.renderOutput(dataTable, element);\n",
              "          const docLink = document.createElement('div');\n",
              "          docLink.innerHTML = docLinkHtml;\n",
              "          element.appendChild(docLink);\n",
              "        }\n",
              "      </script>\n",
              "    </div>\n",
              "  </div>\n",
              "  "
            ]
          },
          "metadata": {},
          "execution_count": 42
        }
      ]
    },
    {
      "cell_type": "markdown",
      "source": [
        "- from the above values, if put into the formula it becomes: Y = 1.057*1 + 2.569*2 + (-6.260)*3 + 4.280*4 + 2.648*5 + -482584002"
      ],
      "metadata": {
        "id": "jnMMGJq4IcH_"
      }
    },
    {
      "cell_type": "code",
      "source": [
        "y_pred = lin_reg.predict(X_test)\n",
        "print(\"Accuracy %.2f%%\" % (lin_reg.score(X_test, y_test)*100))"
      ],
      "metadata": {
        "execution": {
          "iopub.status.busy": "2023-04-14T10:49:49.004435Z",
          "iopub.execute_input": "2023-04-14T10:49:49.004910Z",
          "iopub.status.idle": "2023-04-14T10:49:49.024886Z",
          "shell.execute_reply.started": "2023-04-14T10:49:49.004862Z",
          "shell.execute_reply": "2023-04-14T10:49:49.023341Z"
        },
        "trusted": true,
        "colab": {
          "base_uri": "https://localhost:8080/"
        },
        "id": "Vs-HiKQzIcH_",
        "outputId": "1cde4670-dd7c-48f5-b49c-c95ddcd1efc1"
      },
      "execution_count": null,
      "outputs": [
        {
          "output_type": "stream",
          "name": "stdout",
          "text": [
            "Accuracy 65.64%\n"
          ]
        }
      ]
    },
    {
      "cell_type": "markdown",
      "source": [
        "### Case study\n",
        "\n",
        "- Yasin wants to find a criteria house in DKI Jakarta with the following criteria:\n",
        "     1. Building Area (LB) = 100\n",
        "     2. Land Area (LT) = 300\n",
        "     3. Number of Bedrooms = 3\n",
        "     4. Number of Bathrooms = 2\n",
        "     5. Car capacity in garage (GRS) = 1"
      ],
      "metadata": {
        "id": "HtktTwprIcIA"
      }
    },
    {
      "cell_type": "code",
      "source": [
        "import math\n",
        "\n",
        "print(\"Yasin dream house costs approx IDR {:,} million\".format(math.floor(lin_reg.predict([[100, 300, 3, 2, 1]])/1000000)))"
      ],
      "metadata": {
        "execution": {
          "iopub.status.busy": "2023-04-14T10:49:49.026694Z",
          "iopub.execute_input": "2023-04-14T10:49:49.027432Z",
          "iopub.status.idle": "2023-04-14T10:49:49.037477Z",
          "shell.execute_reply.started": "2023-04-14T10:49:49.027379Z",
          "shell.execute_reply": "2023-04-14T10:49:49.036155Z"
        },
        "trusted": true,
        "colab": {
          "base_uri": "https://localhost:8080/"
        },
        "id": "TsZbO98iIcIA",
        "outputId": "43fc08d1-5186-432f-e0dc-cb061817da07"
      },
      "execution_count": null,
      "outputs": [
        {
          "output_type": "stream",
          "name": "stdout",
          "text": [
            "Yasin dream house costs approx IDR 7,524 million\n"
          ]
        },
        {
          "output_type": "stream",
          "name": "stderr",
          "text": [
            "/usr/local/lib/python3.10/dist-packages/sklearn/base.py:439: UserWarning: X does not have valid feature names, but LinearRegression was fitted with feature names\n",
            "  warnings.warn(\n"
          ]
        }
      ]
    }
  ]
}